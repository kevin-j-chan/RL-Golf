{
 "metadata": {
  "language_info": {
   "codemirror_mode": {
    "name": "ipython",
    "version": 3
   },
   "file_extension": ".py",
   "mimetype": "text/x-python",
   "name": "python",
   "nbconvert_exporter": "python",
   "pygments_lexer": "ipython3",
   "version": "3.9.2-final"
  },
  "orig_nbformat": 2,
  "kernelspec": {
   "name": "python3",
   "display_name": "Python 3.9.2 64-bit",
   "metadata": {
    "interpreter": {
     "hash": "19ebbf56c786aea1e9c6a27c91595744759c69690a1d58643ea26eacb5eafac6"
    }
   }
  }
 },
 "nbformat": 4,
 "nbformat_minor": 2,
 "cells": [
  {
   "source": [
    "# Imports"
   ],
   "cell_type": "markdown",
   "metadata": {}
  },
  {
   "cell_type": "code",
   "execution_count": null,
   "metadata": {},
   "outputs": [],
   "source": [
    "# import\n",
    "import numpy as np\n",
    "import matplotlib.pyplot as plt\n",
    "import random"
   ]
  },
  {
   "source": [
    "# Methods\n",
    "* **generate_course**: Given a grid size, number of possible actions, and number of sand pits, generate a golf course centered around a randomly placed goal hole.\n",
    "\n",
    "* **generate_test_course**: Similar to generate_course, except with a standardized location and size for testing purposes.\n",
    "\n",
    "* **generate_start**: Given a Map, get a random state that is valid which will be used as a starting state.\n",
    "\n",
    "* **in_ellipse / in_rectangle**: Check whether certain points are within our desired shape.\n",
    "\n",
    "* **print_course**: Print out the state-reward map of the golf course.\n",
    "\n",
    "* **print_V**: Print out the value map of the golf course.\n",
    "\n",
    "* **step**: Takes a state and action vector (magnitude and direction) and returns the new state and reward.\n",
    "      *it is important to note that if the \"ball\" runs into a sand pit or out of bounds, the \"ball\" will return to the last valid state. similarly, if the ball rolls over the goal hole, it will stop and terminate there instead of moving past it.*"
   ],
   "cell_type": "markdown",
   "metadata": {}
  },
  {
   "cell_type": "code",
   "execution_count": null,
   "metadata": {},
   "outputs": [],
   "source": [
    "# methods to create shapes for the golf course\n",
    "def in_ellipse(x: int, y:int, a:int, b:int, rw:int, rh:int):\n",
    "    return abs((x-a)**2 / rw**2 + (y-b)**2 / rh**2) <= 1\n",
    "def in_rectangle(x: int, y:int, a:int, b:int, rw:int, rh:int):\n",
    "    return x >= a - rw and x <= a + rw and y >= b - rh and y <= b + rh\n",
    "\n",
    "# method that creates the golf course\n",
    "#   returns\n",
    "#       - list of possible states\n",
    "#       - dict of state-action values\n",
    "#       - dict of state rewards\n",
    "#       - terminal states\n",
    "def generate_course(width:int, height:int, n_actions:int, n_pits:int):\n",
    "    # declare data structures\n",
    "    S_out = []\n",
    "    S_tout = []\n",
    "    Q_out = dict()\n",
    "    Map_out = dict()\n",
    "    \n",
    "    # initialize states, Q and R\n",
    "    for x in range(width):\n",
    "        for y in range(height):\n",
    "            S_out.append( (y,x) )\n",
    "            Q_out[(y,x)] = [0]*n_actions    # initialize all values for all actions as 0 (putt first four, driver second four)\n",
    "            Map_out[(y,x)] = 'O'               # large negative value\n",
    "    \n",
    "    # randomly select hole for the goal and add it to terminal states\n",
    "    hole = random.choice(S_out)\n",
    "    S_tout.append(hole)\n",
    "\n",
    "    # create various shapes on course for different point values\n",
    "    random_shape = [random.choice([in_ellipse, in_rectangle]) for num in range(3)]\n",
    "    for x in range(width):\n",
    "        for y in range(height):\n",
    "            if random_shape[0](y,x,hole[0],hole[1], 3,3):\n",
    "                Map_out[(y,x)] = 'G'\n",
    "            elif random_shape[1](y,x,hole[0],hole[1], 8,4):\n",
    "                Map_out[(y,x)] = 'R'\n",
    "            elif random_shape[2](y,x,hole[0],hole[1], 8,8):\n",
    "                Map_out[(y,x)] = 'G'\n",
    "\n",
    "    # set the hole coordinate to 'H'\n",
    "    Map_out[hole] = 'H'\n",
    "    \n",
    "    # create sand pits\n",
    "    cnt_pits = 0\n",
    "    while cnt_pits < n_pits:\n",
    "        pit = random.choice(S_out)\n",
    "        # check that the pit is not on the hole\n",
    "        if pit != hole: \n",
    "            Map_out[pit] = 'P'\n",
    "            cnt_pits += 1\n",
    "    \n",
    "    return S_out, S_tout, Q_out, Map_out\n",
    "\n",
    "# method that creates the same course every time\n",
    "def generate_test_course(width:int, height:int, n_actions:int, n_pits:int):\n",
    "    # declare data structures\n",
    "    S_out = []\n",
    "    S_tout = []\n",
    "    Q_out = dict()\n",
    "    Map_out = dict()\n",
    "    \n",
    "    # initialize states, Q and Map\n",
    "    for x in range(width):\n",
    "        for y in range(height):\n",
    "            S_out.append( (y,x) )\n",
    "            Q_out[(y,x)] = [0]*n_actions    # initialize all values for all actions as 0 (putt first four, driver second four)\n",
    "            Map_out[(y,x)] = 'O'                 # large negative value\n",
    "    \n",
    "    # randomly select hole for the goal and add it to terminal states\n",
    "    hole = (int(height / 2), int(width * 2/3))\n",
    "    S_tout.append(hole)\n",
    "\n",
    "    # create various shapes on course for different point values\n",
    "    for x in range(width):\n",
    "        for y in range(height):\n",
    "            if in_ellipse(y,x,hole[0],hole[1], 3,3):\n",
    "                Map_out[(y,x)] = 'G'\n",
    "            elif in_ellipse(y,x,hole[0],hole[1], 7,4):\n",
    "                Map_out[(y,x)] = 'R'\n",
    "            elif in_rectangle(y,x,hole[0],hole[1], 8,7):\n",
    "                Map_out[(y,x)] = 'G'\n",
    "\n",
    "    # set the hole coordinates\n",
    "    Map_out[hole] = 'H'\n",
    "    \n",
    "    # create sand pits\n",
    "    pits = [ (int(height/3), int(width/2)), (int(height * 3/4), int(width/2 + 3)), (int(height/2 - 2), int(width/2 + 2))]\n",
    "    for pit in pits:\n",
    "        Map_out[pit] = 'P'\n",
    "    \n",
    "    return S_out, S_tout, Q_out, Map_out\n",
    "\n",
    "# method to find start that is in valid terrain\n",
    "def generate_start(Map:dict):\n",
    "    start = random.choice(list(Map.keys()))\n",
    "    while Map[start] == 'O' or Map[start] == 'P' or Map[start] == 'H': \n",
    "        start = random.choice(list(Map.keys()))\n",
    "    return start"
   ]
  },
  {
   "source": [
    "## Print methods\n",
    "* print_course(): state-reward map\n",
    "* print_V(): value map"
   ],
   "cell_type": "markdown",
   "metadata": {}
  },
  {
   "cell_type": "code",
   "execution_count": null,
   "metadata": {},
   "outputs": [],
   "source": [
    "# method that prints a formatted version of the golf course with rewards\n",
    "def print_course(Map:dict):\n",
    "    for x in range(WIDTH):\n",
    "        for y in range(HEIGHT):\n",
    "            color = \"\"\n",
    "            if Map[(y,x)] == 'G':\n",
    "                color = CYAN\n",
    "            elif Map[(y,x)] == 'R':\n",
    "                color = GREEN\n",
    "            elif Map[(y,x)] == 'H':\n",
    "                color = RED\n",
    "            else:\n",
    "                color = BLACK\n",
    "            print(color + Map[(y,x)], end=\" \")\n",
    "        print()\n",
    "\n",
    "# method that prints a formatted version of the estimated values for each state, taking the maximum of all possible actions\n",
    "def print_V(Q:dict):\n",
    "    for x in range(WIDTH):\n",
    "        for y in range(HEIGHT):\n",
    "            print(np.round(np.max(Q[(y,x)]),1), end=\" \")\n",
    "        print()\n"
   ]
  },
  {
   "source": [
    "## Step method\n",
    "parameters:\n",
    "* start position\n",
    "* strength (PUTT or DRIVER)\n",
    "* direction \n",
    "\n",
    "returns:\n",
    "* end position\n",
    "* reward"
   ],
   "cell_type": "markdown",
   "metadata": {}
  },
  {
   "source": [
    "def step(start:tuple, strength:int, direction:tuple):  \n",
    "    pos = [start[0], start[1]]\n",
    "    reward = 0\n",
    "    if Map[start] == 'P': # pits make the ball go significantly slower\n",
    "        strength -= 2\n",
    "    if Map[start] == 'R': # rough patches make the ball go slower at starting position\n",
    "        strength -= 1\n",
    "    \n",
    "    # ball moves in direction by one tick of strength\n",
    "    for t in range(strength):\n",
    "        \n",
    "        newPos = [pos[0] + direction[0], pos[1] + direction[1]]\n",
    "        # print('\\tIntermediate position:',tuple(newPos))\n",
    "        # check if ball moves out of map. break, return last position and -1\n",
    "        if tuple(newPos) not in S or Map[tuple(newPos)] == 'O':\n",
    "            # print(\"\\tOUT OF BOUNDS\")\n",
    "            break\n",
    "\n",
    "        # check if ball moves into sand pit or rough - if so, return previous state and reward\n",
    "        elif Map[tuple(newPos)] == 'P':\n",
    "            # print(\"\\tSAND PITS\")\n",
    "            pos = newPos\n",
    "            break\n",
    "\n",
    "        # check if ball moves over goal - if so, return end state and reward\n",
    "        elif Map[tuple(newPos)] == 'H':\n",
    "            # print(\"\\tGOAL\")\n",
    "            pos = newPos\n",
    "            reward = 0\n",
    "            break\n",
    "\n",
    "        # else ball keeps moving\n",
    "        else:\n",
    "            pos = newPos\n",
    "\n",
    "    return tuple(pos), -1"
   ],
   "cell_type": "code",
   "metadata": {},
   "execution_count": null,
   "outputs": []
  },
  {
   "source": [
    "# Variables and Constants"
   ],
   "cell_type": "markdown",
   "metadata": {}
  },
  {
   "cell_type": "code",
   "execution_count": null,
   "metadata": {},
   "outputs": [],
   "source": [
    "# constants\n",
    "WIDTH = 10                                      # vertical grid size\n",
    "HEIGHT = 30                                     # horizontal grid size\n",
    "NUM_SAND_PITS = 3                               # random terminal states \n",
    "EPSILON = 0.1                                  # the rate at which we explore\n",
    "ALPHA = 0.1    \n",
    "GAMMA = 1   \n",
    "\n",
    "RED   = \"\\033[1;31m\"  \n",
    "CYAN  = \"\\033[1;36m\"\n",
    "GREEN = \"\\033[0;32m\"\n",
    "BLACK  = \"\\033[0;0m\"\n",
    "\n",
    "# testing\n",
    "iterations = [1, 100, 1000, 10000, 100000]\n",
    "\n",
    "# environment\n",
    "terrain = ['O', 'R', 'G', 'H', 'P']             # different types of terrain on the course. \n",
    "                                                # 'OUT', 'ROUGH', 'GREEN', 'HOLE', '(Sand) Pits'\n",
    "# actions\n",
    "PUTT = 2                                        # strength 2\n",
    "DRIVER = 3                                      # strength 3\n",
    "strengths = [PUTT, DRIVER]\n",
    "directions = [(-1,0), (1, 0), (0, -1), (0, 1)]  # up, down, left, right\n",
    "n_actions = len(directions) * 2                 # possible directions * possible powers\n",
    "\n",
    "# data structures\n",
    "#   -   these are generated by the generate_course method. here is an example of how to call it though.\n",
    "S, S_t, Q, Map  = generate_course(WIDTH, HEIGHT, n_actions, NUM_SAND_PITS)"
   ]
  },
  {
   "source": [
    "# Policy\n",
    "Epsilon-Greedy"
   ],
   "cell_type": "markdown",
   "metadata": {}
  },
  {
   "cell_type": "code",
   "execution_count": null,
   "metadata": {},
   "outputs": [],
   "source": [
    "def epsilon_greedy(Q, state, epsilon):\n",
    "    be_greedy = np.random.random() < 1 - epsilon\n",
    "    if be_greedy: \n",
    "        action = np.argmax(Q[state])\n",
    "    else:                            \n",
    "        action = np.random.randint(0, n_actions)\n",
    "    \n",
    "    s = int(action / len(directions))  # 0 is PUTT, 1 is DRIVER\n",
    "    d = action % len(directions)     \n",
    "    return s, d"
   ]
  },
  {
   "source": [
    "# Q-Learning"
   ],
   "cell_type": "markdown",
   "metadata": {}
  },
  {
   "cell_type": "code",
   "execution_count": null,
   "metadata": {
    "tags": []
   },
   "outputs": [],
   "source": [
    "for it in iterations:\n",
    "    S, S_t, Q, Map  = generate_test_course(WIDTH, HEIGHT, n_actions, NUM_SAND_PITS) \n",
    "    # Loop for each episode\n",
    "    for i in range(it):\n",
    "        state = generate_start(Map)\n",
    "        # Loop for each step of episode\n",
    "        while state not in S_t:\n",
    "            s, d = epsilon_greedy(Q, state, EPSILON)\n",
    "            newState, reward = step(state, strengths[s], directions[d])\n",
    "            Q[state][s * len(directions) + d] = Q[state][s * len(directions) + d] + ALPHA * (reward + GAMMA * max(Q[newState]) - Q[state][s * len(directions) + d])\n",
    "            state = newState \n",
    "    print(\"iteration : \", it)\n",
    "    print_V(Q)"
   ]
  },
  {
   "source": [
    "# Dyna-Q"
   ],
   "cell_type": "markdown",
   "metadata": {}
  },
  {
   "cell_type": "code",
   "execution_count": null,
   "metadata": {},
   "outputs": [],
   "source": [
    "S, S_t, Q, Map = generate_test_course(WIDTH, HEIGHT, n_actions, NUM_SAND_PITS) \n",
    "Model = dict()\n",
    "for s in S:\n",
    "    for a in range(len(strengths)):\n",
    "        for d in range(len(directions)):\n",
    "            Model[s,a,d] = None"
   ]
  },
  {
   "source": [
    "# Environment Testing"
   ],
   "cell_type": "markdown",
   "metadata": {}
  },
  {
   "source": [
    "First, a demonstration of the state-reward map."
   ],
   "cell_type": "markdown",
   "metadata": {}
  },
  {
   "cell_type": "code",
   "execution_count": null,
   "metadata": {},
   "outputs": [],
   "source": [
    "print_course(Map)"
   ]
  },
  {
   "source": [
    "We will do several demonstrations where we pick an random state *S_i* and then randomly select a strength *s* and direction *d* for our step method.\n",
    "\n",
    "**Expected behavior**: Given a current position, the ball will 'roll' in direction *d* by *s* amount. \n",
    "There are three special cases that we should observe as well. Like in golf, the ball shall stop when it goes out of bounds (out of the array bounds), into the sand pits (denoted by reward = -99), or into the goal hole (denoted by reward = 0). \n",
    "* Out of bounds: the state that is returned will be the most recent available state, with a reward of -99.\n",
    "* Sand pits: the state that is returned will be the most recent available state, with a reward of -99. \n",
    "* Goal hole: the state that is returned is the goal state, with a reward of 0. This is the terminal state and will end the episode. "
   ],
   "cell_type": "markdown",
   "metadata": {}
  },
  {
   "cell_type": "code",
   "execution_count": null,
   "metadata": {},
   "outputs": [],
   "source": []
  }
 ]
}