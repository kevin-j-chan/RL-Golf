{
 "metadata": {
  "language_info": {
   "codemirror_mode": {
    "name": "ipython",
    "version": 3
   },
   "file_extension": ".py",
   "mimetype": "text/x-python",
   "name": "python",
   "nbconvert_exporter": "python",
   "pygments_lexer": "ipython3",
   "version": "3.9.2-final"
  },
  "orig_nbformat": 2,
  "kernelspec": {
   "name": "python3",
   "display_name": "Python 3.9.2 64-bit",
   "metadata": {
    "interpreter": {
     "hash": "19ebbf56c786aea1e9c6a27c91595744759c69690a1d58643ea26eacb5eafac6"
    }
   }
  }
 },
 "nbformat": 4,
 "nbformat_minor": 2,
 "cells": [
  {
   "source": [
    "# Imports"
   ],
   "cell_type": "markdown",
   "metadata": {}
  },
  {
   "cell_type": "code",
   "execution_count": 38,
   "metadata": {},
   "outputs": [],
   "source": [
    "import numpy as np\n",
    "import matplotlib.pyplot as plt\n",
    "import random"
   ]
  },
  {
   "source": [
    "# Methods\n",
    "* **generate_course**: Given a grid size, number of possible actions, and number of sand pits, generate a golf course centered around a randomly placed goal hole.\n",
    "\n",
    "* **generate_test_course**: Similar to generate_course, except with a standardized location and size for testing purposes.\n",
    "\n",
    "* **generate_start**: Given a Map, get a random state that is valid which will be used as a starting state.\n",
    "\n",
    "* **in_ellipse / in_rectangle**: Check whether certain points are within our desired shape.\n",
    "\n",
    "* **print_course**: Print out the state-reward map of the golf course.\n",
    "\n",
    "* **print_V**: Print out the value map of the golf course.\n",
    "\n",
    "* **step**: Takes a state and action vector (magnitude and direction) and returns the new state and reward."
   ],
   "cell_type": "markdown",
   "metadata": {}
  },
  {
   "cell_type": "code",
   "execution_count": 57,
   "metadata": {},
   "outputs": [],
   "source": [
    "# methods to create shapes for the golf course\n",
    "def in_ellipse(x: int, y:int, a:int, b:int, rw:int, rh:int):\n",
    "    return abs((x-a)**2 / rw**2 + (y-b)**2 / rh**2) <= 1\n",
    "def in_rectangle(x: int, y:int, a:int, b:int, rw:int, rh:int):\n",
    "    return x >= a - rw and x <= a + rw and y >= b - rh and y <= b + rh\n",
    "\n",
    "# method that creates the golf course\n",
    "#   returns\n",
    "#       - list of possible states\n",
    "#       - dict of state-action values\n",
    "#       - dict of state rewards\n",
    "#       - terminal states\n",
    "def generate_course(width:int, height:int, n_actions:int, n_pits:int):\n",
    "    # declare data structures\n",
    "    S_out = []\n",
    "    S_tout = []\n",
    "    Q_out = dict()\n",
    "    Map_out = dict()\n",
    "    \n",
    "    # initialize states, Q and R\n",
    "    for y in range(height):\n",
    "        for x in range(width):\n",
    "            S_out.append( (y,x) )\n",
    "            Q_out[(y,x)] = [0]*n_actions    \n",
    "            Map_out[(y,x)] = 'O'             \n",
    "    \n",
    "    # randomly select hole for the goal and add it to terminal states\n",
    "    hole = random.choice(S_out)\n",
    "    S_tout.append(hole)\n",
    "\n",
    "    # create various shapes on course for different point values\n",
    "    random_shape = [random.choice([in_ellipse, in_rectangle]) for num in range(3)]\n",
    "    for x in range(width):\n",
    "        for y in range(height):\n",
    "            if random_shape[0](y,x,hole[0],hole[1], 3,3):\n",
    "                Map_out[(y,x)] = 'G'\n",
    "            elif random_shape[1](y,x,hole[0],hole[1], 8,4):\n",
    "                Map_out[(y,x)] = 'R'\n",
    "            elif random_shape[2](y,x,hole[0],hole[1], HEIGHT * 3/4, WIDTH * 7/8):\n",
    "                Map_out[(y,x)] = 'G'\n",
    "\n",
    "    # set the hole coordinate to 'H'\n",
    "    Map_out[hole] = 'H'\n",
    "    \n",
    "    # create sand pits\n",
    "    cnt_pits = 0\n",
    "    while cnt_pits < n_pits:\n",
    "        pit = random.choice(S_out)\n",
    "        locs = generate_pit_locations(Map_out, pit)\n",
    "        if len(locs) > 0:\n",
    "            cnt_pits += 1\n",
    "        for l in locs:\n",
    "            Map_out[l] = 'P'\n",
    "    \n",
    "    return S_out, S_tout, Q_out, Map_out\n",
    "\n",
    "# method that creates the same course every time\n",
    "def generate_test_course(width:int, height:int, n_actions:int, n_pits:int):\n",
    "    # declare data structures\n",
    "    S_out = []\n",
    "    S_tout = []\n",
    "    Q_out = dict()\n",
    "    Map_out = dict()\n",
    "    \n",
    "    # initialize states, Q and Map\n",
    "    for x in range(width):\n",
    "        for y in range(height):\n",
    "            S_out.append( (y,x) )\n",
    "            Q_out[(y,x)] = [0]*n_actions    \n",
    "            Map_out[(y,x)] = 'O'                \n",
    "    \n",
    "    # randomly select hole for the goal and add it to terminal states\n",
    "    hole = (int(height / 2), int(width * 2/3))\n",
    "    S_tout.append(hole)\n",
    "\n",
    "    # create various shapes on course for different point values\n",
    "    for x in range(width):\n",
    "        for y in range(height):\n",
    "            if in_ellipse(y,x,hole[0],hole[1], 3,3):\n",
    "                Map_out[(y,x)] = 'G'\n",
    "            elif in_rectangle(y,x,hole[0],hole[1], 8,4):\n",
    "                Map_out[(y,x)] = 'R'\n",
    "            elif in_rectangle(y,x,hole[0],hole[1], 9, 8):\n",
    "                Map_out[(y,x)] = 'G'\n",
    "\n",
    "    # set the hole coordinates\n",
    "    Map_out[hole] = 'H'\n",
    "    \n",
    "    # create sand pits\n",
    "    pits = [ (int(height/3), int(width/2)), (int(height * 3/4), int(width/2 + 3)), (int(height/2 - 2), int(width/2 + 2))]\n",
    "    for pit in pits:\n",
    "        locs = generate_pit_locations(Map_out, pit)\n",
    "        for l in locs:\n",
    "            Map_out[l] = 'P'\n",
    "    \n",
    "    return S_out, S_tout, Q_out, Map_out\n",
    "\n",
    "# method to find start that is in valid terrain\n",
    "def generate_start(Map:dict):\n",
    "    start = random.choice(list(Map.keys()))\n",
    "    while Map[start] == 'O' or Map[start] == 'H': \n",
    "        start = random.choice(list(Map.keys()))\n",
    "    return start\n",
    "\n",
    "def generate_pit_locations(Map, loc):\n",
    "    ret = []\n",
    "    if loc in Map.keys() and Map[loc] != 'H':\n",
    "        ret.append(loc)\n",
    "        for d in directions:\n",
    "            if (loc[0]+d[0], loc[1]+d[1]) in Map.keys() and Map[(loc[0]+d[0], loc[1]+d[1])] != 'H':\n",
    "                ret.append((loc[0]+d[0], loc[1]+d[1]))\n",
    "    return ret"
   ]
  },
  {
   "source": [
    "## Print methods\n",
    "* print_course(): state-reward map\n",
    "* print_V(): value map"
   ],
   "cell_type": "markdown",
   "metadata": {}
  },
  {
   "cell_type": "code",
   "execution_count": 90,
   "metadata": {},
   "outputs": [],
   "source": [
    "# method that prints a formatted version of the golf course with rewards\n",
    "def print_course(Map:dict):\n",
    "    for x in range(WIDTH):\n",
    "        for y in range(HEIGHT):\n",
    "            color = \"\"\n",
    "            if Map[(y,x)] == 'G':\n",
    "                color = CYAN\n",
    "            elif Map[(y,x)] == 'R':\n",
    "                color = GREEN\n",
    "            elif Map[(y,x)] == 'H':\n",
    "                color = RED\n",
    "            else:\n",
    "                color = BLACK\n",
    "            print(color + Map[(y,x)], end=\" \")\n",
    "        print()\n",
    "\n",
    "# method that prints a formatted version of the estimated values for each state, taking the maximum of all possible actions\n",
    "def print_V(Q:dict):\n",
    "    for x in range(WIDTH):\n",
    "        for y in range(HEIGHT):\n",
    "            color = \"\"\n",
    "            if Map[(y,x)] == 'G':\n",
    "                color = CYAN\n",
    "            elif Map[(y,x)] == 'R':\n",
    "                color = GREEN\n",
    "            elif Map[(y,x)] == 'H':\n",
    "                color = RED\n",
    "            else:\n",
    "                color = BLACK\n",
    "\n",
    "            if np.max(Q[(y,x)]) == 0:\n",
    "                print(color + \" 0.0\", end=\" \")\n",
    "            else:\n",
    "                print(color + str(np.round(np.max(Q[(y,x)]),1)), end=\" \")\n",
    "        print()\n"
   ]
  },
  {
   "source": [
    "## Step method\n",
    "parameters:\n",
    "* start position\n",
    "* strength (PUTT or DRIVER)\n",
    "* direction \n",
    "\n",
    "returns:\n",
    "* end position\n",
    "* reward"
   ],
   "cell_type": "markdown",
   "metadata": {}
  },
  {
   "source": [
    "def step(start:tuple, strength:int, direction:tuple):  \n",
    "    # check if in hole\n",
    "    if Map[start] == 'H':\n",
    "        return start, 0\n",
    "\n",
    "    else:\n",
    "        pos = [start[0], start[1]]\n",
    "        # pits make the ball go significantly slower\n",
    "        if Map[start] == 'P': \n",
    "            strength -= 2\n",
    "        # rough patches make the ball go slower at starting position\n",
    "        if Map[start] == 'R': \n",
    "            strength -= 1\n",
    "        # ball moves in direction by one tick of strength\n",
    "        for t in range(strength):\n",
    "            newPos = [pos[0] + direction[0], pos[1] + direction[1]]\n",
    "            # check if ball moves out of map. break, return last position and -1\n",
    "            if tuple(newPos) not in S or Map[tuple(newPos)] == 'O':\n",
    "                break\n",
    "            # check if ball moves into sand pit or rough - if so, return previous state and reward\n",
    "            elif Map[tuple(newPos)] == 'P':\n",
    "                pos = newPos\n",
    "                break\n",
    "            # check if ball moves over goal - if so, return end state and reward\n",
    "            elif Map[tuple(newPos)] == 'H':\n",
    "                pos = newPos\n",
    "                break\n",
    "            # else ball keeps moving\n",
    "            else:\n",
    "                pos = newPos\n",
    "\n",
    "        return tuple(pos), -1"
   ],
   "cell_type": "code",
   "metadata": {},
   "execution_count": 91,
   "outputs": []
  },
  {
   "source": [
    "# Variables and Constants"
   ],
   "cell_type": "markdown",
   "metadata": {}
  },
  {
   "cell_type": "code",
   "execution_count": 98,
   "metadata": {},
   "outputs": [],
   "source": [
    "# constants\n",
    "WIDTH = 10                                      # vertical grid size\n",
    "HEIGHT = 30                                     # horizontal grid size\n",
    "NUM_SAND_PITS = 3                               # random terminal states \n",
    "EPSILON = 0.1                                   # the rate at which we explore\n",
    "ALPHA = 0.1    \n",
    "GAMMA = 1   \n",
    "\n",
    "RED   = \"\\033[1;31m\"  \n",
    "CYAN  = \"\\033[1;36m\"\n",
    "GREEN = \"\\033[0;32m\"\n",
    "BLACK  = \"\\033[0;0m\"\n",
    "\n",
    "# testing\n",
    "iterations = [1, 100, 1000, 10000, 50000]\n",
    "\n",
    "# environment\n",
    "terrain = ['O', 'R', 'G', 'H', 'P']             # different types of terrain on the course. \n",
    "                                                # 'OUT', 'ROUGH', 'GREEN', 'HOLE', '(Sand) Pits'\n",
    "# actions\n",
    "PUTT = 2                                        # strength 2\n",
    "DRIVER = 3                                      # strength 3\n",
    "strengths = [PUTT, DRIVER]\n",
    "directions = [(-1,0), (1, 0), (0, -1), (0, 1)]  # up, down, left, right\n",
    "n_actions = len(directions) * 2                 # possible directions * possible powers\n",
    "\n",
    "# data structures\n",
    "S = []\n",
    "S_t = []\n",
    "Q = dict()\n",
    "Map = dict()\n",
    "# ** these are generated by the generate_course method. here is an example of how to call it though.\n",
    "# S, S_t, Q, Map  = generate_course(WIDTH, HEIGHT, n_actions, NUM_SAND_PITS)"
   ]
  },
  {
   "cell_type": "code",
   "execution_count": 99,
   "metadata": {},
   "outputs": [
    {
     "output_type": "stream",
     "name": "stdout",
     "text": [
      "\u001b[0;0mO \u001b[0;0mO \u001b[0;0mO \u001b[0;0mO \u001b[0;0mO \u001b[0;0mO \u001b[1;36mG \u001b[1;36mG \u001b[1;36mG \u001b[1;36mG \u001b[1;36mG \u001b[1;36mG \u001b[1;36mG \u001b[1;36mG \u001b[1;36mG \u001b[1;36mG \u001b[1;36mG \u001b[1;36mG \u001b[1;36mG \u001b[1;36mG \u001b[1;36mG \u001b[1;36mG \u001b[1;36mG \u001b[1;36mG \u001b[1;36mG \u001b[0;0mO \u001b[0;0mO \u001b[0;0mO \u001b[0;0mO \u001b[0;0mO \n\u001b[0;0mO \u001b[0;0mO \u001b[0;0mO \u001b[0;0mO \u001b[0;0mO \u001b[0;0mO \u001b[1;36mG \u001b[1;36mG \u001b[1;36mG \u001b[1;36mG \u001b[1;36mG \u001b[1;36mG \u001b[1;36mG \u001b[1;36mG \u001b[1;36mG \u001b[1;36mG \u001b[1;36mG \u001b[1;36mG \u001b[1;36mG \u001b[1;36mG \u001b[1;36mG \u001b[1;36mG \u001b[1;36mG \u001b[1;36mG \u001b[1;36mG \u001b[0;0mO \u001b[0;0mO \u001b[0;0mO \u001b[0;0mO \u001b[0;0mO \n\u001b[0;0mO \u001b[0;0mO \u001b[0;0mO \u001b[0;0mO \u001b[0;0mO \u001b[0;0mO \u001b[1;36mG \u001b[0;32mR \u001b[0;32mR \u001b[0;32mR \u001b[0;32mR \u001b[0;32mR \u001b[0;32mR \u001b[0;32mR \u001b[0;32mR \u001b[0;32mR \u001b[0;32mR \u001b[0;32mR \u001b[0;32mR \u001b[0;32mR \u001b[0;32mR \u001b[0;32mR \u001b[0;32mR \u001b[0;32mR \u001b[1;36mG \u001b[0;0mO \u001b[0;0mO \u001b[0;0mO \u001b[0;0mO \u001b[0;0mO \n\u001b[0;0mO \u001b[0;0mO \u001b[0;0mO \u001b[0;0mO \u001b[0;0mO \u001b[0;0mO \u001b[1;36mG \u001b[0;32mR \u001b[0;32mR \u001b[0;32mR \u001b[0;32mR \u001b[0;32mR \u001b[0;32mR \u001b[0;32mR \u001b[0;32mR \u001b[1;36mG \u001b[0;32mR \u001b[0;32mR \u001b[0;32mR \u001b[0;32mR \u001b[0;32mR \u001b[0;32mR \u001b[0;32mR \u001b[0;32mR \u001b[1;36mG \u001b[0;0mO \u001b[0;0mO \u001b[0;0mO \u001b[0;0mO \u001b[0;0mO \n\u001b[0;0mO \u001b[0;0mO \u001b[0;0mO \u001b[0;0mO \u001b[0;0mO \u001b[0;0mO \u001b[1;36mG \u001b[0;32mR \u001b[0;32mR \u001b[0;32mR \u001b[0;0mP \u001b[0;32mR \u001b[0;32mR \u001b[1;36mG \u001b[1;36mG \u001b[1;36mG \u001b[1;36mG \u001b[1;36mG \u001b[0;32mR \u001b[0;32mR \u001b[0;32mR \u001b[0;32mR \u001b[0;32mR \u001b[0;32mR \u001b[1;36mG \u001b[0;0mO \u001b[0;0mO \u001b[0;0mO \u001b[0;0mO \u001b[0;0mO \n\u001b[0;0mO \u001b[0;0mO \u001b[0;0mO \u001b[0;0mO \u001b[0;0mO \u001b[0;0mO \u001b[1;36mG \u001b[0;32mR \u001b[0;32mR \u001b[0;0mP \u001b[0;0mP \u001b[0;0mP \u001b[0;32mR \u001b[1;36mG \u001b[1;36mG \u001b[1;36mG \u001b[1;36mG \u001b[1;36mG \u001b[0;32mR \u001b[0;32mR \u001b[0;32mR \u001b[0;32mR \u001b[0;32mR \u001b[0;32mR \u001b[1;36mG \u001b[0;0mO \u001b[0;0mO \u001b[0;0mO \u001b[0;0mO \u001b[0;0mO \n\u001b[0;0mO \u001b[0;0mO \u001b[0;0mO \u001b[0;0mO \u001b[0;0mO \u001b[0;0mO \u001b[1;36mG \u001b[0;32mR \u001b[0;32mR \u001b[0;32mR \u001b[0;0mP \u001b[0;32mR \u001b[1;36mG \u001b[0;0mP \u001b[1;36mG \u001b[1;31mH \u001b[1;36mG \u001b[1;36mG \u001b[1;36mG \u001b[0;32mR \u001b[0;32mR \u001b[0;32mR \u001b[0;32mR \u001b[0;32mR \u001b[1;36mG \u001b[0;0mO \u001b[0;0mO \u001b[0;0mO \u001b[0;0mO \u001b[0;0mO \n\u001b[0;0mO \u001b[0;0mO \u001b[0;0mO \u001b[0;0mO \u001b[0;0mO \u001b[0;0mO \u001b[1;36mG \u001b[0;32mR \u001b[0;32mR \u001b[0;32mR \u001b[0;32mR \u001b[0;32mR \u001b[0;0mP \u001b[0;0mP \u001b[0;0mP \u001b[1;36mG \u001b[1;36mG \u001b[1;36mG \u001b[0;32mR \u001b[0;32mR \u001b[0;32mR \u001b[0;32mR \u001b[0;0mP \u001b[0;32mR \u001b[1;36mG \u001b[0;0mO \u001b[0;0mO \u001b[0;0mO \u001b[0;0mO \u001b[0;0mO \n\u001b[0;0mO \u001b[0;0mO \u001b[0;0mO \u001b[0;0mO \u001b[0;0mO \u001b[0;0mO \u001b[1;36mG \u001b[0;32mR \u001b[0;32mR \u001b[0;32mR \u001b[0;32mR \u001b[0;32mR \u001b[0;32mR \u001b[0;0mP \u001b[1;36mG \u001b[1;36mG \u001b[1;36mG \u001b[1;36mG \u001b[0;32mR \u001b[0;32mR \u001b[0;32mR \u001b[0;0mP \u001b[0;0mP \u001b[0;0mP \u001b[1;36mG \u001b[0;0mO \u001b[0;0mO \u001b[0;0mO \u001b[0;0mO \u001b[0;0mO \n\u001b[0;0mO \u001b[0;0mO \u001b[0;0mO \u001b[0;0mO \u001b[0;0mO \u001b[0;0mO \u001b[1;36mG \u001b[0;32mR \u001b[0;32mR \u001b[0;32mR \u001b[0;32mR \u001b[0;32mR \u001b[0;32mR \u001b[0;32mR \u001b[0;32mR \u001b[1;36mG \u001b[0;32mR \u001b[0;32mR \u001b[0;32mR \u001b[0;32mR \u001b[0;32mR \u001b[0;32mR \u001b[0;0mP \u001b[0;32mR \u001b[1;36mG \u001b[0;0mO \u001b[0;0mO \u001b[0;0mO \u001b[0;0mO \u001b[0;0mO \n"
     ]
    }
   ],
   "source": [
    "S, S_t, Q, Map  = generate_test_course(WIDTH, HEIGHT, n_actions, NUM_SAND_PITS)\n",
    "print_course(Map)"
   ]
  },
  {
   "source": [
    "# Policy\n",
    "Epsilon-Greedy"
   ],
   "cell_type": "markdown",
   "metadata": {}
  },
  {
   "cell_type": "code",
   "execution_count": 100,
   "metadata": {},
   "outputs": [],
   "source": [
    "def epsilon_greedy(Q, state):\n",
    "    be_greedy = np.random.random() < 1 - EPSILON\n",
    "    if be_greedy: \n",
    "        action = np.argmax(Q[state])\n",
    "    else:                            \n",
    "        action = np.random.randint(0, n_actions)\n",
    "    \n",
    "    s = int(action / len(directions))  # 0 is PUTT, 1 is DRIVER\n",
    "    d = action % len(directions)     \n",
    "    return s, d"
   ]
  },
  {
   "source": [
    "# Q-Learning"
   ],
   "cell_type": "markdown",
   "metadata": {}
  },
  {
   "cell_type": "code",
   "execution_count": 101,
   "metadata": {
    "tags": []
   },
   "outputs": [
    {
     "output_type": "stream",
     "name": "stdout",
     "text": [
      "iteration :  1\n",
      "\u001b[0;0m 0.0 \u001b[0;0m 0.0 \u001b[0;0m 0.0 \u001b[0;0m 0.0 \u001b[0;0m 0.0 \u001b[0;0m 0.0 \u001b[1;36m-0.2 \u001b[1;36m 0.0 \u001b[1;36m-0.1 \u001b[1;36m-0.1 \u001b[1;36m 0.0 \u001b[1;36m-0.1 \u001b[1;36m-0.1 \u001b[1;36m 0.0 \u001b[1;36m 0.0 \u001b[1;36m 0.0 \u001b[1;36m 0.0 \u001b[1;36m 0.0 \u001b[1;36m 0.0 \u001b[1;36m 0.0 \u001b[1;36m 0.0 \u001b[1;36m 0.0 \u001b[1;36m 0.0 \u001b[1;36m 0.0 \u001b[1;36m 0.0 \u001b[0;0m 0.0 \u001b[0;0m 0.0 \u001b[0;0m 0.0 \u001b[0;0m 0.0 \u001b[0;0m 0.0 \n",
      "\u001b[0;0m 0.0 \u001b[0;0m 0.0 \u001b[0;0m 0.0 \u001b[0;0m 0.0 \u001b[0;0m 0.0 \u001b[0;0m 0.0 \u001b[1;36m 0.0 \u001b[1;36m 0.0 \u001b[1;36m 0.0 \u001b[1;36m 0.0 \u001b[1;36m 0.0 \u001b[1;36m 0.0 \u001b[1;36m 0.0 \u001b[1;36m 0.0 \u001b[1;36m 0.0 \u001b[1;36m 0.0 \u001b[1;36m 0.0 \u001b[1;36m 0.0 \u001b[1;36m 0.0 \u001b[1;36m 0.0 \u001b[1;36m 0.0 \u001b[1;36m 0.0 \u001b[1;36m 0.0 \u001b[1;36m 0.0 \u001b[1;36m 0.0 \u001b[0;0m 0.0 \u001b[0;0m 0.0 \u001b[0;0m 0.0 \u001b[0;0m 0.0 \u001b[0;0m 0.0 \n",
      "\u001b[0;0m 0.0 \u001b[0;0m 0.0 \u001b[0;0m 0.0 \u001b[0;0m 0.0 \u001b[0;0m 0.0 \u001b[0;0m 0.0 \u001b[1;36m-0.1 \u001b[0;32m 0.0 \u001b[0;32m 0.0 \u001b[0;32m-0.1 \u001b[0;32m 0.0 \u001b[0;32m 0.0 \u001b[0;32m 0.0 \u001b[0;32m 0.0 \u001b[0;32m 0.0 \u001b[0;32m 0.0 \u001b[0;32m 0.0 \u001b[0;32m 0.0 \u001b[0;32m 0.0 \u001b[0;32m 0.0 \u001b[0;32m 0.0 \u001b[0;32m 0.0 \u001b[0;32m 0.0 \u001b[0;32m 0.0 \u001b[1;36m 0.0 \u001b[0;0m 0.0 \u001b[0;0m 0.0 \u001b[0;0m 0.0 \u001b[0;0m 0.0 \u001b[0;0m 0.0 \n",
      "\u001b[0;0m 0.0 \u001b[0;0m 0.0 \u001b[0;0m 0.0 \u001b[0;0m 0.0 \u001b[0;0m 0.0 \u001b[0;0m 0.0 \u001b[1;36m-0.1 \u001b[0;32m 0.0 \u001b[0;32m-0.1 \u001b[0;32m-0.1 \u001b[0;32m-0.1 \u001b[0;32m 0.0 \u001b[0;32m 0.0 \u001b[0;32m 0.0 \u001b[0;32m 0.0 \u001b[1;36m 0.0 \u001b[0;32m 0.0 \u001b[0;32m 0.0 \u001b[0;32m 0.0 \u001b[0;32m 0.0 \u001b[0;32m 0.0 \u001b[0;32m 0.0 \u001b[0;32m 0.0 \u001b[0;32m 0.0 \u001b[1;36m 0.0 \u001b[0;0m 0.0 \u001b[0;0m 0.0 \u001b[0;0m 0.0 \u001b[0;0m 0.0 \u001b[0;0m 0.0 \n",
      "\u001b[0;0m 0.0 \u001b[0;0m 0.0 \u001b[0;0m 0.0 \u001b[0;0m 0.0 \u001b[0;0m 0.0 \u001b[0;0m 0.0 \u001b[1;36m 0.0 \u001b[0;32m 0.0 \u001b[0;32m 0.0 \u001b[0;32m 0.0 \u001b[0;0m-0.2 \u001b[0;32m 0.0 \u001b[0;32m 0.0 \u001b[1;36m 0.0 \u001b[1;36m 0.0 \u001b[1;36m 0.0 \u001b[1;36m 0.0 \u001b[1;36m 0.0 \u001b[0;32m 0.0 \u001b[0;32m 0.0 \u001b[0;32m 0.0 \u001b[0;32m 0.0 \u001b[0;32m 0.0 \u001b[0;32m 0.0 \u001b[1;36m 0.0 \u001b[0;0m 0.0 \u001b[0;0m 0.0 \u001b[0;0m 0.0 \u001b[0;0m 0.0 \u001b[0;0m 0.0 \n",
      "\u001b[0;0m 0.0 \u001b[0;0m 0.0 \u001b[0;0m 0.0 \u001b[0;0m 0.0 \u001b[0;0m 0.0 \u001b[0;0m 0.0 \u001b[1;36m-0.1 \u001b[0;32m 0.0 \u001b[0;32m-0.1 \u001b[0;0m-0.2 \u001b[0;0m-0.2 \u001b[0;0m-0.1 \u001b[0;32m 0.0 \u001b[1;36m 0.0 \u001b[1;36m 0.0 \u001b[1;36m 0.0 \u001b[1;36m 0.0 \u001b[1;36m 0.0 \u001b[0;32m 0.0 \u001b[0;32m 0.0 \u001b[0;32m 0.0 \u001b[0;32m 0.0 \u001b[0;32m 0.0 \u001b[0;32m 0.0 \u001b[1;36m 0.0 \u001b[0;0m 0.0 \u001b[0;0m 0.0 \u001b[0;0m 0.0 \u001b[0;0m 0.0 \u001b[0;0m 0.0 \n",
      "\u001b[0;0m 0.0 \u001b[0;0m 0.0 \u001b[0;0m 0.0 \u001b[0;0m 0.0 \u001b[0;0m 0.0 \u001b[0;0m 0.0 \u001b[1;36m 0.0 \u001b[0;32m 0.0 \u001b[0;32m 0.0 \u001b[0;32m 0.0 \u001b[0;0m-0.1 \u001b[0;32m 0.0 \u001b[1;36m 0.0 \u001b[0;0m 0.0 \u001b[1;36m 0.0 \u001b[1;31m 0.0 \u001b[1;36m 0.0 \u001b[1;36m 0.0 \u001b[1;36m 0.0 \u001b[0;32m 0.0 \u001b[0;32m 0.0 \u001b[0;32m 0.0 \u001b[0;32m 0.0 \u001b[0;32m 0.0 \u001b[1;36m 0.0 \u001b[0;0m 0.0 \u001b[0;0m 0.0 \u001b[0;0m 0.0 \u001b[0;0m 0.0 \u001b[0;0m 0.0 \n",
      "\u001b[0;0m 0.0 \u001b[0;0m 0.0 \u001b[0;0m 0.0 \u001b[0;0m 0.0 \u001b[0;0m 0.0 \u001b[0;0m 0.0 \u001b[1;36m 0.0 \u001b[0;32m 0.0 \u001b[0;32m 0.0 \u001b[0;32m 0.0 \u001b[0;32m 0.0 \u001b[0;32m 0.0 \u001b[0;0m-0.1 \u001b[0;0m 0.0 \u001b[0;0m 0.0 \u001b[1;36m 0.0 \u001b[1;36m 0.0 \u001b[1;36m 0.0 \u001b[0;32m 0.0 \u001b[0;32m 0.0 \u001b[0;32m 0.0 \u001b[0;32m 0.0 \u001b[0;0m 0.0 \u001b[0;32m 0.0 \u001b[1;36m 0.0 \u001b[0;0m 0.0 \u001b[0;0m 0.0 \u001b[0;0m 0.0 \u001b[0;0m 0.0 \u001b[0;0m 0.0 \n",
      "\u001b[0;0m 0.0 \u001b[0;0m 0.0 \u001b[0;0m 0.0 \u001b[0;0m 0.0 \u001b[0;0m 0.0 \u001b[0;0m 0.0 \u001b[1;36m 0.0 \u001b[0;32m 0.0 \u001b[0;32m 0.0 \u001b[0;32m 0.0 \u001b[0;32m 0.0 \u001b[0;32m 0.0 \u001b[0;32m 0.0 \u001b[0;0m 0.0 \u001b[1;36m 0.0 \u001b[1;36m 0.0 \u001b[1;36m 0.0 \u001b[1;36m 0.0 \u001b[0;32m 0.0 \u001b[0;32m 0.0 \u001b[0;32m 0.0 \u001b[0;0m 0.0 \u001b[0;0m 0.0 \u001b[0;0m 0.0 \u001b[1;36m 0.0 \u001b[0;0m 0.0 \u001b[0;0m 0.0 \u001b[0;0m 0.0 \u001b[0;0m 0.0 \u001b[0;0m 0.0 \n",
      "\u001b[0;0m 0.0 \u001b[0;0m 0.0 \u001b[0;0m 0.0 \u001b[0;0m 0.0 \u001b[0;0m 0.0 \u001b[0;0m 0.0 \u001b[1;36m 0.0 \u001b[0;32m 0.0 \u001b[0;32m 0.0 \u001b[0;32m 0.0 \u001b[0;32m 0.0 \u001b[0;32m 0.0 \u001b[0;32m 0.0 \u001b[0;32m 0.0 \u001b[0;32m 0.0 \u001b[1;36m 0.0 \u001b[0;32m 0.0 \u001b[0;32m 0.0 \u001b[0;32m 0.0 \u001b[0;32m 0.0 \u001b[0;32m 0.0 \u001b[0;32m 0.0 \u001b[0;0m 0.0 \u001b[0;32m 0.0 \u001b[1;36m 0.0 \u001b[0;0m 0.0 \u001b[0;0m 0.0 \u001b[0;0m 0.0 \u001b[0;0m 0.0 \u001b[0;0m 0.0 \n",
      "iteration :  100\n",
      "\u001b[0;0m 0.0 \u001b[0;0m 0.0 \u001b[0;0m 0.0 \u001b[0;0m 0.0 \u001b[0;0m 0.0 \u001b[0;0m 0.0 \u001b[1;36m-1.5 \u001b[1;36m-0.7 \u001b[1;36m-1.0 \u001b[1;36m-1.0 \u001b[1;36m-0.9 \u001b[1;36m-0.9 \u001b[1;36m-0.9 \u001b[1;36m-0.9 \u001b[1;36m-0.9 \u001b[1;36m-0.9 \u001b[1;36m-0.9 \u001b[1;36m-0.9 \u001b[1;36m-0.9 \u001b[1;36m-0.9 \u001b[1;36m-0.9 \u001b[1;36m-0.9 \u001b[1;36m-1.0 \u001b[1;36m-0.6 \u001b[1;36m-1.4 \u001b[0;0m 0.0 \u001b[0;0m 0.0 \u001b[0;0m 0.0 \u001b[0;0m 0.0 \u001b[0;0m 0.0 \n",
      "\u001b[0;0m 0.0 \u001b[0;0m 0.0 \u001b[0;0m 0.0 \u001b[0;0m 0.0 \u001b[0;0m 0.0 \u001b[0;0m 0.0 \u001b[1;36m-0.9 \u001b[1;36m-0.4 \u001b[1;36m-0.6 \u001b[1;36m-0.7 \u001b[1;36m-0.6 \u001b[1;36m-0.7 \u001b[1;36m-0.6 \u001b[1;36m-0.7 \u001b[1;36m-0.6 \u001b[1;36m-0.6 \u001b[1;36m-0.6 \u001b[1;36m-0.7 \u001b[1;36m-0.6 \u001b[1;36m-0.6 \u001b[1;36m-0.6 \u001b[1;36m-0.6 \u001b[1;36m-0.6 \u001b[1;36m-0.4 \u001b[1;36m-0.8 \u001b[0;0m 0.0 \u001b[0;0m 0.0 \u001b[0;0m 0.0 \u001b[0;0m 0.0 \u001b[0;0m 0.0 \n",
      "\u001b[0;0m 0.0 \u001b[0;0m 0.0 \u001b[0;0m 0.0 \u001b[0;0m 0.0 \u001b[0;0m 0.0 \u001b[0;0m 0.0 \u001b[1;36m-1.1 \u001b[0;32m-0.6 \u001b[0;32m-0.9 \u001b[0;32m-0.9 \u001b[0;32m-0.7 \u001b[0;32m-0.8 \u001b[0;32m-0.7 \u001b[0;32m-0.7 \u001b[0;32m-0.7 \u001b[0;32m-0.6 \u001b[0;32m-0.7 \u001b[0;32m-0.7 \u001b[0;32m-0.7 \u001b[0;32m-0.8 \u001b[0;32m-0.8 \u001b[0;32m-0.9 \u001b[0;32m-0.8 \u001b[0;32m-0.5 \u001b[1;36m-1.0 \u001b[0;0m 0.0 \u001b[0;0m 0.0 \u001b[0;0m 0.0 \u001b[0;0m 0.0 \u001b[0;0m 0.0 \n",
      "\u001b[0;0m 0.0 \u001b[0;0m 0.0 \u001b[0;0m 0.0 \u001b[0;0m 0.0 \u001b[0;0m 0.0 \u001b[0;0m 0.0 \u001b[1;36m-1.1 \u001b[0;32m-0.7 \u001b[0;32m-1.0 \u001b[0;32m-1.0 \u001b[0;32m-1.0 \u001b[0;32m-0.9 \u001b[0;32m-0.9 \u001b[0;32m-0.8 \u001b[0;32m-0.7 \u001b[1;36m-0.7 \u001b[0;32m-0.7 \u001b[0;32m-0.8 \u001b[0;32m-0.9 \u001b[0;32m-0.9 \u001b[0;32m-1.0 \u001b[0;32m-1.0 \u001b[0;32m-0.9 \u001b[0;32m-0.7 \u001b[1;36m-1.1 \u001b[0;0m 0.0 \u001b[0;0m 0.0 \u001b[0;0m 0.0 \u001b[0;0m 0.0 \u001b[0;0m 0.0 \n",
      "\u001b[0;0m 0.0 \u001b[0;0m 0.0 \u001b[0;0m 0.0 \u001b[0;0m 0.0 \u001b[0;0m 0.0 \u001b[0;0m 0.0 \u001b[1;36m-1.1 \u001b[0;32m-0.8 \u001b[0;32m-1.0 \u001b[0;32m-1.2 \u001b[0;0m-1.6 \u001b[0;32m-1.1 \u001b[0;32m-0.8 \u001b[1;36m-0.7 \u001b[1;36m-0.6 \u001b[1;36m-0.3 \u001b[1;36m-0.7 \u001b[1;36m-0.8 \u001b[0;32m-0.8 \u001b[0;32m-0.9 \u001b[0;32m-1.0 \u001b[0;32m-1.0 \u001b[0;32m-0.9 \u001b[0;32m-0.7 \u001b[1;36m-1.0 \u001b[0;0m 0.0 \u001b[0;0m 0.0 \u001b[0;0m 0.0 \u001b[0;0m 0.0 \u001b[0;0m 0.0 \n",
      "\u001b[0;0m 0.0 \u001b[0;0m 0.0 \u001b[0;0m 0.0 \u001b[0;0m 0.0 \u001b[0;0m 0.0 \u001b[0;0m 0.0 \u001b[1;36m-1.1 \u001b[0;32m-0.7 \u001b[0;32m-1.1 \u001b[0;0m-1.7 \u001b[0;0m-1.6 \u001b[0;0m-1.5 \u001b[0;32m-0.8 \u001b[1;36m-0.6 \u001b[1;36m-0.5 \u001b[1;36m-0.3 \u001b[1;36m-0.5 \u001b[1;36m-0.6 \u001b[0;32m-0.7 \u001b[0;32m-0.8 \u001b[0;32m-0.9 \u001b[0;32m-1.0 \u001b[0;32m-0.9 \u001b[0;32m-0.7 \u001b[1;36m-1.0 \u001b[0;0m 0.0 \u001b[0;0m 0.0 \u001b[0;0m 0.0 \u001b[0;0m 0.0 \u001b[0;0m 0.0 \n",
      "\u001b[0;0m 0.0 \u001b[0;0m 0.0 \u001b[0;0m 0.0 \u001b[0;0m 0.0 \u001b[0;0m 0.0 \u001b[0;0m 0.0 \u001b[1;36m-1.2 \u001b[0;32m-0.8 \u001b[0;32m-1.0 \u001b[0;32m-1.2 \u001b[0;0m-1.6 \u001b[0;32m-1.0 \u001b[1;36m-0.9 \u001b[0;0m-1.2 \u001b[1;36m-0.6 \u001b[1;31m 0.0 \u001b[1;36m-0.3 \u001b[1;36m-0.3 \u001b[1;36m-0.6 \u001b[0;32m-0.8 \u001b[0;32m-0.9 \u001b[0;32m-1.0 \u001b[0;32m-1.0 \u001b[0;32m-0.6 \u001b[1;36m-1.1 \u001b[0;0m 0.0 \u001b[0;0m 0.0 \u001b[0;0m 0.0 \u001b[0;0m 0.0 \u001b[0;0m 0.0 \n",
      "\u001b[0;0m 0.0 \u001b[0;0m 0.0 \u001b[0;0m 0.0 \u001b[0;0m 0.0 \u001b[0;0m 0.0 \u001b[0;0m 0.0 \u001b[1;36m-1.1 \u001b[0;32m-0.8 \u001b[0;32m-1.0 \u001b[0;32m-1.1 \u001b[0;32m-1.0 \u001b[0;32m-1.0 \u001b[0;0m-1.4 \u001b[0;0m-1.3 \u001b[0;0m-1.2 \u001b[1;36m-0.5 \u001b[1;36m-0.5 \u001b[1;36m-0.7 \u001b[0;32m-0.7 \u001b[0;32m-0.9 \u001b[0;32m-0.9 \u001b[0;32m-1.0 \u001b[0;0m-1.5 \u001b[0;32m-0.8 \u001b[1;36m-1.0 \u001b[0;0m 0.0 \u001b[0;0m 0.0 \u001b[0;0m 0.0 \u001b[0;0m 0.0 \u001b[0;0m 0.0 \n",
      "\u001b[0;0m 0.0 \u001b[0;0m 0.0 \u001b[0;0m 0.0 \u001b[0;0m 0.0 \u001b[0;0m 0.0 \u001b[0;0m 0.0 \u001b[1;36m-0.9 \u001b[0;32m-0.7 \u001b[0;32m-1.0 \u001b[0;32m-1.0 \u001b[0;32m-0.9 \u001b[0;32m-0.9 \u001b[0;32m-0.9 \u001b[0;0m-1.3 \u001b[1;36m-0.8 \u001b[1;36m-0.1 \u001b[1;36m-0.5 \u001b[1;36m-0.6 \u001b[0;32m-0.7 \u001b[0;32m-0.8 \u001b[0;32m-0.9 \u001b[0;0m-1.4 \u001b[0;0m-1.4 \u001b[0;0m-1.3 \u001b[1;36m-0.8 \u001b[0;0m 0.0 \u001b[0;0m 0.0 \u001b[0;0m 0.0 \u001b[0;0m 0.0 \u001b[0;0m 0.0 \n",
      "\u001b[0;0m 0.0 \u001b[0;0m 0.0 \u001b[0;0m 0.0 \u001b[0;0m 0.0 \u001b[0;0m 0.0 \u001b[0;0m 0.0 \u001b[1;36m-1.4 \u001b[0;32m-0.9 \u001b[0;32m-1.2 \u001b[0;32m-1.2 \u001b[0;32m-1.2 \u001b[0;32m-1.2 \u001b[0;32m-1.1 \u001b[0;32m-1.0 \u001b[0;32m-0.8 \u001b[1;36m-0.8 \u001b[0;32m-0.8 \u001b[0;32m-0.9 \u001b[0;32m-1.0 \u001b[0;32m-1.0 \u001b[0;32m-1.0 \u001b[0;32m-1.2 \u001b[0;0m-1.6 \u001b[0;32m-1.0 \u001b[1;36m-1.4 \u001b[0;0m 0.0 \u001b[0;0m 0.0 \u001b[0;0m 0.0 \u001b[0;0m 0.0 \u001b[0;0m 0.0 \n",
      "iteration :  1000\n",
      "\u001b[0;0m 0.0 \u001b[0;0m 0.0 \u001b[0;0m 0.0 \u001b[0;0m 0.0 \u001b[0;0m 0.0 \u001b[0;0m 0.0 \u001b[1;36m-3.5 \u001b[1;36m-2.7 \u001b[1;36m-3.0 \u001b[1;36m-3.0 \u001b[1;36m-2.8 \u001b[1;36m-2.8 \u001b[1;36m-2.6 \u001b[1;36m-2.5 \u001b[1;36m-2.5 \u001b[1;36m-2.0 \u001b[1;36m-2.5 \u001b[1;36m-2.4 \u001b[1;36m-2.5 \u001b[1;36m-2.6 \u001b[1;36m-2.6 \u001b[1;36m-2.8 \u001b[1;36m-2.8 \u001b[1;36m-2.5 \u001b[1;36m-3.3 \u001b[0;0m 0.0 \u001b[0;0m 0.0 \u001b[0;0m 0.0 \u001b[0;0m 0.0 \u001b[0;0m 0.0 \n",
      "\u001b[0;0m 0.0 \u001b[0;0m 0.0 \u001b[0;0m 0.0 \u001b[0;0m 0.0 \u001b[0;0m 0.0 \u001b[0;0m 0.0 \u001b[1;36m-3.0 \u001b[1;36m-2.4 \u001b[1;36m-2.6 \u001b[1;36m-2.6 \u001b[1;36m-2.4 \u001b[1;36m-2.3 \u001b[1;36m-2.3 \u001b[1;36m-2.1 \u001b[1;36m-2.1 \u001b[1;36m-1.8 \u001b[1;36m-2.0 \u001b[1;36m-2.0 \u001b[1;36m-2.1 \u001b[1;36m-2.2 \u001b[1;36m-2.1 \u001b[1;36m-2.4 \u001b[1;36m-2.4 \u001b[1;36m-2.1 \u001b[1;36m-2.8 \u001b[0;0m 0.0 \u001b[0;0m 0.0 \u001b[0;0m 0.0 \u001b[0;0m 0.0 \u001b[0;0m 0.0 \n",
      "\u001b[0;0m 0.0 \u001b[0;0m 0.0 \u001b[0;0m 0.0 \u001b[0;0m 0.0 \u001b[0;0m 0.0 \u001b[0;0m 0.0 \u001b[1;36m-3.1 \u001b[0;32m-2.6 \u001b[0;32m-2.9 \u001b[0;32m-2.9 \u001b[0;32m-2.6 \u001b[0;32m-2.6 \u001b[0;32m-2.4 \u001b[0;32m-2.2 \u001b[0;32m-2.1 \u001b[0;32m-1.8 \u001b[0;32m-2.1 \u001b[0;32m-2.1 \u001b[0;32m-2.3 \u001b[0;32m-2.3 \u001b[0;32m-2.4 \u001b[0;32m-2.6 \u001b[0;32m-2.6 \u001b[0;32m-2.3 \u001b[1;36m-2.9 \u001b[0;0m 0.0 \u001b[0;0m 0.0 \u001b[0;0m 0.0 \u001b[0;0m 0.0 \u001b[0;0m 0.0 \n",
      "\u001b[0;0m 0.0 \u001b[0;0m 0.0 \u001b[0;0m 0.0 \u001b[0;0m 0.0 \u001b[0;0m 0.0 \u001b[0;0m 0.0 \u001b[1;36m-3.3 \u001b[0;32m-2.8 \u001b[0;32m-3.0 \u001b[0;32m-3.0 \u001b[0;32m-2.9 \u001b[0;32m-2.6 \u001b[0;32m-2.5 \u001b[0;32m-2.0 \u001b[0;32m-2.0 \u001b[1;36m-1.0 \u001b[0;32m-1.9 \u001b[0;32m-1.9 \u001b[0;32m-2.3 \u001b[0;32m-2.5 \u001b[0;32m-2.5 \u001b[0;32m-2.8 \u001b[0;32m-2.7 \u001b[0;32m-2.4 \u001b[1;36m-2.9 \u001b[0;0m 0.0 \u001b[0;0m 0.0 \u001b[0;0m 0.0 \u001b[0;0m 0.0 \u001b[0;0m 0.0 \n",
      "\u001b[0;0m 0.0 \u001b[0;0m 0.0 \u001b[0;0m 0.0 \u001b[0;0m 0.0 \u001b[0;0m 0.0 \u001b[0;0m 0.0 \u001b[1;36m-3.3 \u001b[0;32m-2.9 \u001b[0;32m-3.1 \u001b[0;32m-3.2 \u001b[0;0m-3.5 \u001b[0;32m-2.8 \u001b[0;32m-2.4 \u001b[1;36m-1.9 \u001b[1;36m-1.9 \u001b[1;36m-1.0 \u001b[1;36m-1.7 \u001b[1;36m-1.8 \u001b[0;32m-2.0 \u001b[0;32m-2.4 \u001b[0;32m-2.5 \u001b[0;32m-2.7 \u001b[0;32m-2.8 \u001b[0;32m-2.5 \u001b[1;36m-3.0 \u001b[0;0m 0.0 \u001b[0;0m 0.0 \u001b[0;0m 0.0 \u001b[0;0m 0.0 \u001b[0;0m 0.0 \n",
      "\u001b[0;0m 0.0 \u001b[0;0m 0.0 \u001b[0;0m 0.0 \u001b[0;0m 0.0 \u001b[0;0m 0.0 \u001b[0;0m 0.0 \u001b[1;36m-3.3 \u001b[0;32m-2.8 \u001b[0;32m-3.2 \u001b[0;0m-3.8 \u001b[0;0m-3.6 \u001b[0;0m-3.2 \u001b[0;32m-2.3 \u001b[1;36m-1.7 \u001b[1;36m-1.8 \u001b[1;36m-0.9 \u001b[1;36m-1.7 \u001b[1;36m-1.7 \u001b[0;32m-1.9 \u001b[0;32m-2.2 \u001b[0;32m-2.4 \u001b[0;32m-2.6 \u001b[0;32m-2.6 \u001b[0;32m-2.5 \u001b[1;36m-2.9 \u001b[0;0m 0.0 \u001b[0;0m 0.0 \u001b[0;0m 0.0 \u001b[0;0m 0.0 \u001b[0;0m 0.0 \n",
      "\u001b[0;0m 0.0 \u001b[0;0m 0.0 \u001b[0;0m 0.0 \u001b[0;0m 0.0 \u001b[0;0m 0.0 \u001b[0;0m 0.0 \u001b[1;36m-3.3 \u001b[0;32m-2.9 \u001b[0;32m-3.1 \u001b[0;32m-3.3 \u001b[0;0m-3.5 \u001b[0;32m-2.8 \u001b[1;36m-2.5 \u001b[0;0m-2.0 \u001b[1;36m-1.0 \u001b[1;31m 0.0 \u001b[1;36m-0.9 \u001b[1;36m-1.0 \u001b[1;36m-1.0 \u001b[0;32m-1.9 \u001b[0;32m-2.0 \u001b[0;32m-2.6 \u001b[0;32m-2.7 \u001b[0;32m-2.4 \u001b[1;36m-3.0 \u001b[0;0m 0.0 \u001b[0;0m 0.0 \u001b[0;0m 0.0 \u001b[0;0m 0.0 \u001b[0;0m 0.0 \n",
      "\u001b[0;0m 0.0 \u001b[0;0m 0.0 \u001b[0;0m 0.0 \u001b[0;0m 0.0 \u001b[0;0m 0.0 \u001b[0;0m 0.0 \u001b[1;36m-3.3 \u001b[0;32m-2.9 \u001b[0;32m-3.2 \u001b[0;32m-3.2 \u001b[0;32m-3.0 \u001b[0;32m-2.8 \u001b[0;0m-3.1 \u001b[0;0m-2.6 \u001b[0;0m-1.9 \u001b[1;36m-1.0 \u001b[1;36m-1.6 \u001b[1;36m-1.7 \u001b[0;32m-1.9 \u001b[0;32m-2.2 \u001b[0;32m-2.4 \u001b[0;32m-2.7 \u001b[0;0m-3.3 \u001b[0;32m-2.7 \u001b[1;36m-3.1 \u001b[0;0m 0.0 \u001b[0;0m 0.0 \u001b[0;0m 0.0 \u001b[0;0m 0.0 \u001b[0;0m 0.0 \n",
      "\u001b[0;0m 0.0 \u001b[0;0m 0.0 \u001b[0;0m 0.0 \u001b[0;0m 0.0 \u001b[0;0m 0.0 \u001b[0;0m 0.0 \u001b[1;36m-3.1 \u001b[0;32m-2.8 \u001b[0;32m-3.0 \u001b[0;32m-3.1 \u001b[0;32m-2.9 \u001b[0;32m-2.7 \u001b[0;32m-2.6 \u001b[0;0m-2.6 \u001b[1;36m-1.9 \u001b[1;36m-0.7 \u001b[1;36m-1.5 \u001b[1;36m-1.5 \u001b[0;32m-1.8 \u001b[0;32m-2.0 \u001b[0;32m-2.4 \u001b[0;0m-3.1 \u001b[0;0m-3.4 \u001b[0;0m-3.2 \u001b[1;36m-2.8 \u001b[0;0m 0.0 \u001b[0;0m 0.0 \u001b[0;0m 0.0 \u001b[0;0m 0.0 \u001b[0;0m 0.0 \n",
      "\u001b[0;0m 0.0 \u001b[0;0m 0.0 \u001b[0;0m 0.0 \u001b[0;0m 0.0 \u001b[0;0m 0.0 \u001b[0;0m 0.0 \u001b[1;36m-3.6 \u001b[0;32m-3.0 \u001b[0;32m-3.3 \u001b[0;32m-3.3 \u001b[0;32m-3.1 \u001b[0;32m-2.9 \u001b[0;32m-2.6 \u001b[0;32m-2.0 \u001b[0;32m-1.9 \u001b[1;36m-1.0 \u001b[0;32m-1.8 \u001b[0;32m-1.9 \u001b[0;32m-2.3 \u001b[0;32m-2.4 \u001b[0;32m-2.6 \u001b[0;32m-2.9 \u001b[0;0m-3.5 \u001b[0;32m-2.9 \u001b[1;36m-3.4 \u001b[0;0m 0.0 \u001b[0;0m 0.0 \u001b[0;0m 0.0 \u001b[0;0m 0.0 \u001b[0;0m 0.0 \n",
      "iteration :  10000\n",
      "\u001b[0;0m 0.0 \u001b[0;0m 0.0 \u001b[0;0m 0.0 \u001b[0;0m 0.0 \u001b[0;0m 0.0 \u001b[0;0m 0.0 \u001b[1;36m-5.0 \u001b[1;36m-4.9 \u001b[1;36m-4.9 \u001b[1;36m-4.0 \u001b[1;36m-4.0 \u001b[1;36m-4.0 \u001b[1;36m-3.0 \u001b[1;36m-3.0 \u001b[1;36m-3.0 \u001b[1;36m-2.0 \u001b[1;36m-3.0 \u001b[1;36m-3.0 \u001b[1;36m-3.0 \u001b[1;36m-4.0 \u001b[1;36m-4.0 \u001b[1;36m-4.0 \u001b[1;36m-4.8 \u001b[1;36m-4.7 \u001b[1;36m-5.0 \u001b[0;0m 0.0 \u001b[0;0m 0.0 \u001b[0;0m 0.0 \u001b[0;0m 0.0 \u001b[0;0m 0.0 \n",
      "\u001b[0;0m 0.0 \u001b[0;0m 0.0 \u001b[0;0m 0.0 \u001b[0;0m 0.0 \u001b[0;0m 0.0 \u001b[0;0m 0.0 \u001b[1;36m-5.0 \u001b[1;36m-4.8 \u001b[1;36m-4.7 \u001b[1;36m-4.0 \u001b[1;36m-4.0 \u001b[1;36m-3.9 \u001b[1;36m-3.0 \u001b[1;36m-3.0 \u001b[1;36m-3.0 \u001b[1;36m-2.0 \u001b[1;36m-3.0 \u001b[1;36m-3.0 \u001b[1;36m-3.0 \u001b[1;36m-3.8 \u001b[1;36m-3.9 \u001b[1;36m-4.0 \u001b[1;36m-4.5 \u001b[1;36m-4.5 \u001b[1;36m-4.9 \u001b[0;0m 0.0 \u001b[0;0m 0.0 \u001b[0;0m 0.0 \u001b[0;0m 0.0 \u001b[0;0m 0.0 \n",
      "\u001b[0;0m 0.0 \u001b[0;0m 0.0 \u001b[0;0m 0.0 \u001b[0;0m 0.0 \u001b[0;0m 0.0 \u001b[0;0m 0.0 \u001b[1;36m-5.6 \u001b[0;32m-5.2 \u001b[0;32m-5.1 \u001b[0;32m-4.8 \u001b[0;32m-4.4 \u001b[0;32m-4.0 \u001b[0;32m-3.7 \u001b[0;32m-3.0 \u001b[0;32m-2.9 \u001b[0;32m-2.0 \u001b[0;32m-2.9 \u001b[0;32m-2.9 \u001b[0;32m-3.0 \u001b[0;32m-3.8 \u001b[0;32m-4.0 \u001b[0;32m-4.6 \u001b[0;32m-4.7 \u001b[0;32m-4.8 \u001b[1;36m-5.2 \u001b[0;0m 0.0 \u001b[0;0m 0.0 \u001b[0;0m 0.0 \u001b[0;0m 0.0 \u001b[0;0m 0.0 \n",
      "\u001b[0;0m 0.0 \u001b[0;0m 0.0 \u001b[0;0m 0.0 \u001b[0;0m 0.0 \u001b[0;0m 0.0 \u001b[0;0m 0.0 \u001b[1;36m-5.0 \u001b[0;32m-5.0 \u001b[0;32m-4.9 \u001b[0;32m-4.0 \u001b[0;32m-4.0 \u001b[0;32m-3.0 \u001b[0;32m-3.0 \u001b[0;32m-2.0 \u001b[0;32m-2.0 \u001b[1;36m-1.0 \u001b[0;32m-2.0 \u001b[0;32m-2.0 \u001b[0;32m-3.0 \u001b[0;32m-3.0 \u001b[0;32m-3.9 \u001b[0;32m-4.0 \u001b[0;32m-4.7 \u001b[0;32m-4.8 \u001b[1;36m-4.9 \u001b[0;0m 0.0 \u001b[0;0m 0.0 \u001b[0;0m 0.0 \u001b[0;0m 0.0 \u001b[0;0m 0.0 \n",
      "\u001b[0;0m 0.0 \u001b[0;0m 0.0 \u001b[0;0m 0.0 \u001b[0;0m 0.0 \u001b[0;0m 0.0 \u001b[0;0m 0.0 \u001b[1;36m-5.7 \u001b[0;32m-5.4 \u001b[0;32m-5.0 \u001b[0;32m-5.0 \u001b[0;0m-4.0 \u001b[0;32m-3.0 \u001b[0;32m-3.0 \u001b[1;36m-2.0 \u001b[1;36m-2.0 \u001b[1;36m-1.0 \u001b[1;36m-2.0 \u001b[1;36m-2.0 \u001b[0;32m-2.0 \u001b[0;32m-3.0 \u001b[0;32m-3.0 \u001b[0;32m-4.0 \u001b[0;32m-4.0 \u001b[0;32m-4.6 \u001b[1;36m-4.9 \u001b[0;0m 0.0 \u001b[0;0m 0.0 \u001b[0;0m 0.0 \u001b[0;0m 0.0 \u001b[0;0m 0.0 \n",
      "\u001b[0;0m 0.0 \u001b[0;0m 0.0 \u001b[0;0m 0.0 \u001b[0;0m 0.0 \u001b[0;0m 0.0 \u001b[0;0m 0.0 \u001b[1;36m-5.9 \u001b[0;32m-5.5 \u001b[0;32m-5.6 \u001b[0;0m-5.9 \u001b[0;0m-5.0 \u001b[0;0m-4.0 \u001b[0;32m-3.0 \u001b[1;36m-2.0 \u001b[1;36m-2.8 \u001b[1;36m-1.0 \u001b[1;36m-2.6 \u001b[1;36m-2.0 \u001b[0;32m-2.0 \u001b[0;32m-3.0 \u001b[0;32m-3.0 \u001b[0;32m-4.0 \u001b[0;32m-4.0 \u001b[0;32m-4.6 \u001b[1;36m-4.9 \u001b[0;0m 0.0 \u001b[0;0m 0.0 \u001b[0;0m 0.0 \u001b[0;0m 0.0 \u001b[0;0m 0.0 \n",
      "\u001b[0;0m 0.0 \u001b[0;0m 0.0 \u001b[0;0m 0.0 \u001b[0;0m 0.0 \u001b[0;0m 0.0 \u001b[0;0m 0.0 \u001b[1;36m-5.7 \u001b[0;32m-5.6 \u001b[0;32m-5.0 \u001b[0;32m-5.0 \u001b[0;0m-4.0 \u001b[0;32m-3.0 \u001b[1;36m-3.0 \u001b[0;0m-2.0 \u001b[1;36m-1.0 \u001b[1;31m 0.0 \u001b[1;36m-1.0 \u001b[1;36m-1.0 \u001b[1;36m-1.0 \u001b[0;32m-2.0 \u001b[0;32m-2.0 \u001b[0;32m-3.0 \u001b[0;32m-3.0 \u001b[0;32m-4.0 \u001b[1;36m-4.0 \u001b[0;0m 0.0 \u001b[0;0m 0.0 \u001b[0;0m 0.0 \u001b[0;0m 0.0 \u001b[0;0m 0.0 \n",
      "\u001b[0;0m 0.0 \u001b[0;0m 0.0 \u001b[0;0m 0.0 \u001b[0;0m 0.0 \u001b[0;0m 0.0 \u001b[0;0m 0.0 \u001b[1;36m-5.7 \u001b[0;32m-5.5 \u001b[0;32m-5.5 \u001b[0;32m-5.0 \u001b[0;32m-4.7 \u001b[0;32m-4.0 \u001b[0;0m-4.0 \u001b[0;0m-3.0 \u001b[0;0m-2.0 \u001b[1;36m-1.0 \u001b[1;36m-2.5 \u001b[1;36m-2.0 \u001b[0;32m-2.0 \u001b[0;32m-3.0 \u001b[0;32m-3.0 \u001b[0;32m-3.9 \u001b[0;0m-4.0 \u001b[0;32m-4.7 \u001b[1;36m-4.9 \u001b[0;0m 0.0 \u001b[0;0m 0.0 \u001b[0;0m 0.0 \u001b[0;0m 0.0 \u001b[0;0m 0.0 \n",
      "\u001b[0;0m 0.0 \u001b[0;0m 0.0 \u001b[0;0m 0.0 \u001b[0;0m 0.0 \u001b[0;0m 0.0 \u001b[0;0m 0.0 \u001b[1;36m-5.7 \u001b[0;32m-5.4 \u001b[0;32m-5.3 \u001b[0;32m-4.9 \u001b[0;32m-4.6 \u001b[0;32m-4.0 \u001b[0;32m-3.8 \u001b[0;0m-3.0 \u001b[1;36m-2.6 \u001b[1;36m-1.0 \u001b[1;36m-2.0 \u001b[1;36m-2.0 \u001b[0;32m-2.0 \u001b[0;32m-2.9 \u001b[0;32m-3.0 \u001b[0;0m-4.0 \u001b[0;0m-4.9 \u001b[0;0m-5.6 \u001b[1;36m-5.0 \u001b[0;0m 0.0 \u001b[0;0m 0.0 \u001b[0;0m 0.0 \u001b[0;0m 0.0 \u001b[0;0m 0.0 \n",
      "\u001b[0;0m 0.0 \u001b[0;0m 0.0 \u001b[0;0m 0.0 \u001b[0;0m 0.0 \u001b[0;0m 0.0 \u001b[0;0m 0.0 \u001b[1;36m-5.0 \u001b[0;32m-5.0 \u001b[0;32m-5.0 \u001b[0;32m-4.0 \u001b[0;32m-4.0 \u001b[0;32m-3.0 \u001b[0;32m-3.0 \u001b[0;32m-2.0 \u001b[0;32m-2.0 \u001b[1;36m-1.0 \u001b[0;32m-2.0 \u001b[0;32m-2.0 \u001b[0;32m-3.0 \u001b[0;32m-3.0 \u001b[0;32m-3.7 \u001b[0;32m-4.0 \u001b[0;0m-5.0 \u001b[0;32m-5.3 \u001b[1;36m-5.0 \u001b[0;0m 0.0 \u001b[0;0m 0.0 \u001b[0;0m 0.0 \u001b[0;0m 0.0 \u001b[0;0m 0.0 \n",
      "iteration :  50000\n",
      "\u001b[0;0m 0.0 \u001b[0;0m 0.0 \u001b[0;0m 0.0 \u001b[0;0m 0.0 \u001b[0;0m 0.0 \u001b[0;0m 0.0 \u001b[1;36m-5.0 \u001b[1;36m-5.0 \u001b[1;36m-5.0 \u001b[1;36m-4.0 \u001b[1;36m-4.0 \u001b[1;36m-4.0 \u001b[1;36m-3.0 \u001b[1;36m-3.0 \u001b[1;36m-3.0 \u001b[1;36m-2.0 \u001b[1;36m-3.0 \u001b[1;36m-3.0 \u001b[1;36m-3.0 \u001b[1;36m-4.0 \u001b[1;36m-4.0 \u001b[1;36m-4.0 \u001b[1;36m-5.0 \u001b[1;36m-5.0 \u001b[1;36m-5.0 \u001b[0;0m 0.0 \u001b[0;0m 0.0 \u001b[0;0m 0.0 \u001b[0;0m 0.0 \u001b[0;0m 0.0 \n",
      "\u001b[0;0m 0.0 \u001b[0;0m 0.0 \u001b[0;0m 0.0 \u001b[0;0m 0.0 \u001b[0;0m 0.0 \u001b[0;0m 0.0 \u001b[1;36m-5.0 \u001b[1;36m-5.0 \u001b[1;36m-5.0 \u001b[1;36m-4.0 \u001b[1;36m-4.0 \u001b[1;36m-4.0 \u001b[1;36m-3.0 \u001b[1;36m-3.0 \u001b[1;36m-3.0 \u001b[1;36m-2.0 \u001b[1;36m-3.0 \u001b[1;36m-3.0 \u001b[1;36m-3.0 \u001b[1;36m-4.0 \u001b[1;36m-4.0 \u001b[1;36m-4.0 \u001b[1;36m-5.0 \u001b[1;36m-5.0 \u001b[1;36m-5.0 \u001b[0;0m 0.0 \u001b[0;0m 0.0 \u001b[0;0m 0.0 \u001b[0;0m 0.0 \u001b[0;0m 0.0 \n",
      "\u001b[0;0m 0.0 \u001b[0;0m 0.0 \u001b[0;0m 0.0 \u001b[0;0m 0.0 \u001b[0;0m 0.0 \u001b[0;0m 0.0 \u001b[1;36m-6.0 \u001b[0;32m-6.0 \u001b[0;32m-6.0 \u001b[0;32m-5.0 \u001b[0;32m-5.0 \u001b[0;32m-4.0 \u001b[0;32m-4.0 \u001b[0;32m-3.0 \u001b[0;32m-3.0 \u001b[0;32m-2.0 \u001b[0;32m-3.0 \u001b[0;32m-3.0 \u001b[0;32m-3.0 \u001b[0;32m-4.0 \u001b[0;32m-4.0 \u001b[0;32m-5.0 \u001b[0;32m-5.0 \u001b[0;32m-6.0 \u001b[1;36m-6.0 \u001b[0;0m 0.0 \u001b[0;0m 0.0 \u001b[0;0m 0.0 \u001b[0;0m 0.0 \u001b[0;0m 0.0 \n",
      "\u001b[0;0m 0.0 \u001b[0;0m 0.0 \u001b[0;0m 0.0 \u001b[0;0m 0.0 \u001b[0;0m 0.0 \u001b[0;0m 0.0 \u001b[1;36m-5.0 \u001b[0;32m-5.0 \u001b[0;32m-5.0 \u001b[0;32m-4.0 \u001b[0;32m-4.0 \u001b[0;32m-3.0 \u001b[0;32m-3.0 \u001b[0;32m-2.0 \u001b[0;32m-2.0 \u001b[1;36m-1.0 \u001b[0;32m-2.0 \u001b[0;32m-2.0 \u001b[0;32m-3.0 \u001b[0;32m-3.0 \u001b[0;32m-4.0 \u001b[0;32m-4.0 \u001b[0;32m-5.0 \u001b[0;32m-5.0 \u001b[1;36m-5.0 \u001b[0;0m 0.0 \u001b[0;0m 0.0 \u001b[0;0m 0.0 \u001b[0;0m 0.0 \u001b[0;0m 0.0 \n",
      "\u001b[0;0m 0.0 \u001b[0;0m 0.0 \u001b[0;0m 0.0 \u001b[0;0m 0.0 \u001b[0;0m 0.0 \u001b[0;0m 0.0 \u001b[1;36m-6.0 \u001b[0;32m-6.0 \u001b[0;32m-5.0 \u001b[0;32m-5.0 \u001b[0;0m-4.0 \u001b[0;32m-3.0 \u001b[0;32m-3.0 \u001b[1;36m-2.0 \u001b[1;36m-2.0 \u001b[1;36m-1.0 \u001b[1;36m-2.0 \u001b[1;36m-2.0 \u001b[0;32m-2.0 \u001b[0;32m-3.0 \u001b[0;32m-3.0 \u001b[0;32m-4.0 \u001b[0;32m-4.0 \u001b[0;32m-5.0 \u001b[1;36m-5.0 \u001b[0;0m 0.0 \u001b[0;0m 0.0 \u001b[0;0m 0.0 \u001b[0;0m 0.0 \u001b[0;0m 0.0 \n",
      "\u001b[0;0m 0.0 \u001b[0;0m 0.0 \u001b[0;0m 0.0 \u001b[0;0m 0.0 \u001b[0;0m 0.0 \u001b[0;0m 0.0 \u001b[1;36m-6.0 \u001b[0;32m-6.0 \u001b[0;32m-6.0 \u001b[0;0m-6.0 \u001b[0;0m-5.0 \u001b[0;0m-4.0 \u001b[0;32m-3.0 \u001b[1;36m-2.0 \u001b[1;36m-3.0 \u001b[1;36m-1.0 \u001b[1;36m-3.0 \u001b[1;36m-2.0 \u001b[0;32m-2.0 \u001b[0;32m-3.0 \u001b[0;32m-3.0 \u001b[0;32m-4.0 \u001b[0;32m-4.0 \u001b[0;32m-5.0 \u001b[1;36m-5.0 \u001b[0;0m 0.0 \u001b[0;0m 0.0 \u001b[0;0m 0.0 \u001b[0;0m 0.0 \u001b[0;0m 0.0 \n",
      "\u001b[0;0m 0.0 \u001b[0;0m 0.0 \u001b[0;0m 0.0 \u001b[0;0m 0.0 \u001b[0;0m 0.0 \u001b[0;0m 0.0 \u001b[1;36m-6.0 \u001b[0;32m-6.0 \u001b[0;32m-5.0 \u001b[0;32m-5.0 \u001b[0;0m-4.0 \u001b[0;32m-3.0 \u001b[1;36m-3.0 \u001b[0;0m-2.0 \u001b[1;36m-1.0 \u001b[1;31m 0.0 \u001b[1;36m-1.0 \u001b[1;36m-1.0 \u001b[1;36m-1.0 \u001b[0;32m-2.0 \u001b[0;32m-2.0 \u001b[0;32m-3.0 \u001b[0;32m-3.0 \u001b[0;32m-4.0 \u001b[1;36m-4.0 \u001b[0;0m 0.0 \u001b[0;0m 0.0 \u001b[0;0m 0.0 \u001b[0;0m 0.0 \u001b[0;0m 0.0 \n",
      "\u001b[0;0m 0.0 \u001b[0;0m 0.0 \u001b[0;0m 0.0 \u001b[0;0m 0.0 \u001b[0;0m 0.0 \u001b[0;0m 0.0 \u001b[1;36m-6.0 \u001b[0;32m-6.0 \u001b[0;32m-6.0 \u001b[0;32m-5.0 \u001b[0;32m-5.0 \u001b[0;32m-4.0 \u001b[0;0m-4.0 \u001b[0;0m-3.0 \u001b[0;0m-2.0 \u001b[1;36m-1.0 \u001b[1;36m-3.0 \u001b[1;36m-2.0 \u001b[0;32m-2.0 \u001b[0;32m-3.0 \u001b[0;32m-3.0 \u001b[0;32m-4.0 \u001b[0;0m-4.0 \u001b[0;32m-5.0 \u001b[1;36m-5.0 \u001b[0;0m 0.0 \u001b[0;0m 0.0 \u001b[0;0m 0.0 \u001b[0;0m 0.0 \u001b[0;0m 0.0 \n",
      "\u001b[0;0m 0.0 \u001b[0;0m 0.0 \u001b[0;0m 0.0 \u001b[0;0m 0.0 \u001b[0;0m 0.0 \u001b[0;0m 0.0 \u001b[1;36m-6.0 \u001b[0;32m-6.0 \u001b[0;32m-6.0 \u001b[0;32m-5.0 \u001b[0;32m-5.0 \u001b[0;32m-4.0 \u001b[0;32m-4.0 \u001b[0;0m-3.0 \u001b[1;36m-3.0 \u001b[1;36m-1.0 \u001b[1;36m-2.0 \u001b[1;36m-2.0 \u001b[0;32m-2.0 \u001b[0;32m-3.0 \u001b[0;32m-3.0 \u001b[0;0m-4.0 \u001b[0;0m-5.0 \u001b[0;0m-6.0 \u001b[1;36m-5.0 \u001b[0;0m 0.0 \u001b[0;0m 0.0 \u001b[0;0m 0.0 \u001b[0;0m 0.0 \u001b[0;0m 0.0 \n",
      "\u001b[0;0m 0.0 \u001b[0;0m 0.0 \u001b[0;0m 0.0 \u001b[0;0m 0.0 \u001b[0;0m 0.0 \u001b[0;0m 0.0 \u001b[1;36m-5.0 \u001b[0;32m-5.0 \u001b[0;32m-5.0 \u001b[0;32m-4.0 \u001b[0;32m-4.0 \u001b[0;32m-3.0 \u001b[0;32m-3.0 \u001b[0;32m-2.0 \u001b[0;32m-2.0 \u001b[1;36m-1.0 \u001b[0;32m-2.0 \u001b[0;32m-2.0 \u001b[0;32m-3.0 \u001b[0;32m-3.0 \u001b[0;32m-4.0 \u001b[0;32m-4.0 \u001b[0;0m-5.0 \u001b[0;32m-6.0 \u001b[1;36m-5.0 \u001b[0;0m 0.0 \u001b[0;0m 0.0 \u001b[0;0m 0.0 \u001b[0;0m 0.0 \u001b[0;0m 0.0 \n"
     ]
    }
   ],
   "source": [
    "for it in iterations:\n",
    "    S, S_t, Q, Map  = generate_test_course(WIDTH, HEIGHT, n_actions, NUM_SAND_PITS) \n",
    "    # Loop through 'it' number of episodes\n",
    "    for i in range(it):\n",
    "        state = generate_start(Map)\n",
    "        # Loop for each step of episode\n",
    "        while state not in S_t:\n",
    "            s, d = epsilon_greedy(Q, state)\n",
    "            newState, reward = step(state, strengths[s], directions[d])\n",
    "            Q[state][s * len(directions) + d] = Q[state][s * len(directions) + d] + ALPHA * (reward + GAMMA * max(Q[newState]) - Q[state][s * len(directions) + d])\n",
    "            state = newState \n",
    "    print(\"iteration : \", it)\n",
    "    print_V(Q)"
   ]
  },
  {
   "source": [
    "# Dyna-Q"
   ],
   "cell_type": "markdown",
   "metadata": {}
  },
  {
   "source": [
    "Variables"
   ],
   "cell_type": "markdown",
   "metadata": {}
  },
  {
   "cell_type": "code",
   "execution_count": 102,
   "metadata": {},
   "outputs": [],
   "source": [
    "n_steps = 10000\n",
    "n_planning_steps = 100"
   ]
  },
  {
   "cell_type": "code",
   "execution_count": 103,
   "metadata": {
    "tags": []
   },
   "outputs": [
    {
     "output_type": "stream",
     "name": "stdout",
     "text": [
      "iteration :  1\n",
      "\u001b[0;0m 0.0 \u001b[0;0m 0.0 \u001b[0;0m 0.0 \u001b[0;0m 0.0 \u001b[0;0m 0.0 \u001b[0;0m 0.0 \u001b[1;36m 0.0 \u001b[1;36m 0.0 \u001b[1;36m 0.0 \u001b[1;36m 0.0 \u001b[1;36m 0.0 \u001b[1;36m 0.0 \u001b[1;36m 0.0 \u001b[1;36m 0.0 \u001b[1;36m 0.0 \u001b[1;36m 0.0 \u001b[1;36m 0.0 \u001b[1;36m 0.0 \u001b[1;36m 0.0 \u001b[1;36m 0.0 \u001b[1;36m 0.0 \u001b[1;36m 0.0 \u001b[1;36m 0.0 \u001b[1;36m 0.0 \u001b[1;36m 0.0 \u001b[0;0m 0.0 \u001b[0;0m 0.0 \u001b[0;0m 0.0 \u001b[0;0m 0.0 \u001b[0;0m 0.0 \n",
      "\u001b[0;0m 0.0 \u001b[0;0m 0.0 \u001b[0;0m 0.0 \u001b[0;0m 0.0 \u001b[0;0m 0.0 \u001b[0;0m 0.0 \u001b[1;36m 0.0 \u001b[1;36m 0.0 \u001b[1;36m 0.0 \u001b[1;36m 0.0 \u001b[1;36m 0.0 \u001b[1;36m 0.0 \u001b[1;36m 0.0 \u001b[1;36m 0.0 \u001b[1;36m 0.0 \u001b[1;36m 0.0 \u001b[1;36m 0.0 \u001b[1;36m 0.0 \u001b[1;36m 0.0 \u001b[1;36m 0.0 \u001b[1;36m 0.0 \u001b[1;36m 0.0 \u001b[1;36m 0.0 \u001b[1;36m 0.0 \u001b[1;36m 0.0 \u001b[0;0m 0.0 \u001b[0;0m 0.0 \u001b[0;0m 0.0 \u001b[0;0m 0.0 \u001b[0;0m 0.0 \n",
      "\u001b[0;0m 0.0 \u001b[0;0m 0.0 \u001b[0;0m 0.0 \u001b[0;0m 0.0 \u001b[0;0m 0.0 \u001b[0;0m 0.0 \u001b[1;36m 0.0 \u001b[0;32m 0.0 \u001b[0;32m 0.0 \u001b[0;32m 0.0 \u001b[0;32m 0.0 \u001b[0;32m 0.0 \u001b[0;32m 0.0 \u001b[0;32m 0.0 \u001b[0;32m 0.0 \u001b[0;32m 0.0 \u001b[0;32m 0.0 \u001b[0;32m 0.0 \u001b[0;32m 0.0 \u001b[0;32m 0.0 \u001b[0;32m 0.0 \u001b[0;32m 0.0 \u001b[0;32m 0.0 \u001b[0;32m 0.0 \u001b[1;36m 0.0 \u001b[0;0m 0.0 \u001b[0;0m 0.0 \u001b[0;0m 0.0 \u001b[0;0m 0.0 \u001b[0;0m 0.0 \n",
      "\u001b[0;0m 0.0 \u001b[0;0m 0.0 \u001b[0;0m 0.0 \u001b[0;0m 0.0 \u001b[0;0m 0.0 \u001b[0;0m 0.0 \u001b[1;36m 0.0 \u001b[0;32m 0.0 \u001b[0;32m 0.0 \u001b[0;32m 0.0 \u001b[0;32m 0.0 \u001b[0;32m 0.0 \u001b[0;32m 0.0 \u001b[0;32m 0.0 \u001b[0;32m 0.0 \u001b[1;36m 0.0 \u001b[0;32m 0.0 \u001b[0;32m 0.0 \u001b[0;32m 0.0 \u001b[0;32m 0.0 \u001b[0;32m 0.0 \u001b[0;32m 0.0 \u001b[0;32m 0.0 \u001b[0;32m 0.0 \u001b[1;36m 0.0 \u001b[0;0m 0.0 \u001b[0;0m 0.0 \u001b[0;0m 0.0 \u001b[0;0m 0.0 \u001b[0;0m 0.0 \n",
      "\u001b[0;0m 0.0 \u001b[0;0m 0.0 \u001b[0;0m 0.0 \u001b[0;0m 0.0 \u001b[0;0m 0.0 \u001b[0;0m 0.0 \u001b[1;36m 0.0 \u001b[0;32m 0.0 \u001b[0;32m 0.0 \u001b[0;32m 0.0 \u001b[0;0m 0.0 \u001b[0;32m 0.0 \u001b[0;32m 0.0 \u001b[1;36m 0.0 \u001b[1;36m 0.0 \u001b[1;36m 0.0 \u001b[1;36m 0.0 \u001b[1;36m 0.0 \u001b[0;32m 0.0 \u001b[0;32m 0.0 \u001b[0;32m 0.0 \u001b[0;32m 0.0 \u001b[0;32m 0.0 \u001b[0;32m 0.0 \u001b[1;36m 0.0 \u001b[0;0m 0.0 \u001b[0;0m 0.0 \u001b[0;0m 0.0 \u001b[0;0m 0.0 \u001b[0;0m 0.0 \n",
      "\u001b[0;0m 0.0 \u001b[0;0m 0.0 \u001b[0;0m 0.0 \u001b[0;0m 0.0 \u001b[0;0m 0.0 \u001b[0;0m 0.0 \u001b[1;36m 0.0 \u001b[0;32m 0.0 \u001b[0;32m 0.0 \u001b[0;0m 0.0 \u001b[0;0m 0.0 \u001b[0;0m 0.0 \u001b[0;32m 0.0 \u001b[1;36m 0.0 \u001b[1;36m 0.0 \u001b[1;36m 0.0 \u001b[1;36m 0.0 \u001b[1;36m 0.0 \u001b[0;32m 0.0 \u001b[0;32m 0.0 \u001b[0;32m 0.0 \u001b[0;32m 0.0 \u001b[0;32m 0.0 \u001b[0;32m 0.0 \u001b[1;36m 0.0 \u001b[0;0m 0.0 \u001b[0;0m 0.0 \u001b[0;0m 0.0 \u001b[0;0m 0.0 \u001b[0;0m 0.0 \n",
      "\u001b[0;0m 0.0 \u001b[0;0m 0.0 \u001b[0;0m 0.0 \u001b[0;0m 0.0 \u001b[0;0m 0.0 \u001b[0;0m 0.0 \u001b[1;36m 0.0 \u001b[0;32m 0.0 \u001b[0;32m 0.0 \u001b[0;32m 0.0 \u001b[0;0m 0.0 \u001b[0;32m 0.0 \u001b[1;36m 0.0 \u001b[0;0m 0.0 \u001b[1;36m 0.0 \u001b[1;31m 0.0 \u001b[1;36m 0.0 \u001b[1;36m 0.0 \u001b[1;36m 0.0 \u001b[0;32m 0.0 \u001b[0;32m 0.0 \u001b[0;32m 0.0 \u001b[0;32m 0.0 \u001b[0;32m 0.0 \u001b[1;36m 0.0 \u001b[0;0m 0.0 \u001b[0;0m 0.0 \u001b[0;0m 0.0 \u001b[0;0m 0.0 \u001b[0;0m 0.0 \n",
      "\u001b[0;0m 0.0 \u001b[0;0m 0.0 \u001b[0;0m 0.0 \u001b[0;0m 0.0 \u001b[0;0m 0.0 \u001b[0;0m 0.0 \u001b[1;36m 0.0 \u001b[0;32m 0.0 \u001b[0;32m 0.0 \u001b[0;32m 0.0 \u001b[0;32m 0.0 \u001b[0;32m 0.0 \u001b[0;0m 0.0 \u001b[0;0m 0.0 \u001b[0;0m 0.0 \u001b[1;36m 0.0 \u001b[1;36m 0.0 \u001b[1;36m 0.0 \u001b[0;32m 0.0 \u001b[0;32m 0.0 \u001b[0;32m 0.0 \u001b[0;32m 0.0 \u001b[0;0m 0.0 \u001b[0;32m 0.0 \u001b[1;36m 0.0 \u001b[0;0m 0.0 \u001b[0;0m 0.0 \u001b[0;0m 0.0 \u001b[0;0m 0.0 \u001b[0;0m 0.0 \n",
      "\u001b[0;0m 0.0 \u001b[0;0m 0.0 \u001b[0;0m 0.0 \u001b[0;0m 0.0 \u001b[0;0m 0.0 \u001b[0;0m 0.0 \u001b[1;36m 0.0 \u001b[0;32m 0.0 \u001b[0;32m 0.0 \u001b[0;32m 0.0 \u001b[0;32m 0.0 \u001b[0;32m 0.0 \u001b[0;32m 0.0 \u001b[0;0m 0.0 \u001b[1;36m 0.0 \u001b[1;36m 0.0 \u001b[1;36m 0.0 \u001b[1;36m 0.0 \u001b[0;32m 0.0 \u001b[0;32m 0.0 \u001b[0;32m 0.0 \u001b[0;0m 0.0 \u001b[0;0m 0.0 \u001b[0;0m 0.0 \u001b[1;36m 0.0 \u001b[0;0m 0.0 \u001b[0;0m 0.0 \u001b[0;0m 0.0 \u001b[0;0m 0.0 \u001b[0;0m 0.0 \n",
      "\u001b[0;0m 0.0 \u001b[0;0m 0.0 \u001b[0;0m 0.0 \u001b[0;0m 0.0 \u001b[0;0m 0.0 \u001b[0;0m 0.0 \u001b[1;36m 0.0 \u001b[0;32m 0.0 \u001b[0;32m 0.0 \u001b[0;32m 0.0 \u001b[0;32m 0.0 \u001b[0;32m 0.0 \u001b[0;32m 0.0 \u001b[0;32m 0.0 \u001b[0;32m 0.0 \u001b[1;36m 0.0 \u001b[0;32m 0.0 \u001b[0;32m 0.0 \u001b[0;32m 0.0 \u001b[0;32m 0.0 \u001b[0;32m 0.0 \u001b[0;32m 0.0 \u001b[0;0m 0.0 \u001b[0;32m 0.0 \u001b[1;36m 0.0 \u001b[0;0m 0.0 \u001b[0;0m 0.0 \u001b[0;0m 0.0 \u001b[0;0m 0.0 \u001b[0;0m 0.0 \n",
      "iteration :  100\n",
      "\u001b[0;0m 0.0 \u001b[0;0m 0.0 \u001b[0;0m 0.0 \u001b[0;0m 0.0 \u001b[0;0m 0.0 \u001b[0;0m 0.0 \u001b[1;36m-0.4 \u001b[1;36m 0.0 \u001b[1;36m-0.1 \u001b[1;36m 0.0 \u001b[1;36m-0.3 \u001b[1;36m 0.0 \u001b[1;36m 0.0 \u001b[1;36m 0.0 \u001b[1;36m 0.0 \u001b[1;36m-0.1 \u001b[1;36m 0.0 \u001b[1;36m 0.0 \u001b[1;36m 0.0 \u001b[1;36m 0.0 \u001b[1;36m 0.0 \u001b[1;36m-0.2 \u001b[1;36m 0.0 \u001b[1;36m-0.1 \u001b[1;36m 0.0 \u001b[0;0m 0.0 \u001b[0;0m 0.0 \u001b[0;0m 0.0 \u001b[0;0m 0.0 \u001b[0;0m 0.0 \n",
      "\u001b[0;0m 0.0 \u001b[0;0m 0.0 \u001b[0;0m 0.0 \u001b[0;0m 0.0 \u001b[0;0m 0.0 \u001b[0;0m 0.0 \u001b[1;36m 0.0 \u001b[1;36m 0.0 \u001b[1;36m 0.0 \u001b[1;36m 0.0 \u001b[1;36m 0.0 \u001b[1;36m-0.3 \u001b[1;36m-0.1 \u001b[1;36m 0.0 \u001b[1;36m-0.1 \u001b[1;36m-0.2 \u001b[1;36m-0.1 \u001b[1;36m 0.0 \u001b[1;36m 0.0 \u001b[1;36m-0.1 \u001b[1;36m 0.0 \u001b[1;36m 0.0 \u001b[1;36m 0.0 \u001b[1;36m 0.0 \u001b[1;36m 0.0 \u001b[0;0m 0.0 \u001b[0;0m 0.0 \u001b[0;0m 0.0 \u001b[0;0m 0.0 \u001b[0;0m 0.0 \n",
      "\u001b[0;0m 0.0 \u001b[0;0m 0.0 \u001b[0;0m 0.0 \u001b[0;0m 0.0 \u001b[0;0m 0.0 \u001b[0;0m 0.0 \u001b[1;36m 0.0 \u001b[0;32m-0.1 \u001b[0;32m 0.0 \u001b[0;32m 0.0 \u001b[0;32m 0.0 \u001b[0;32m-0.1 \u001b[0;32m 0.0 \u001b[0;32m 0.0 \u001b[0;32m 0.0 \u001b[0;32m 0.0 \u001b[0;32m-0.2 \u001b[0;32m 0.0 \u001b[0;32m-0.1 \u001b[0;32m-0.3 \u001b[0;32m 0.0 \u001b[0;32m 0.0 \u001b[0;32m 0.0 \u001b[0;32m 0.0 \u001b[1;36m-0.2 \u001b[0;0m 0.0 \u001b[0;0m 0.0 \u001b[0;0m 0.0 \u001b[0;0m 0.0 \u001b[0;0m 0.0 \n",
      "\u001b[0;0m 0.0 \u001b[0;0m 0.0 \u001b[0;0m 0.0 \u001b[0;0m 0.0 \u001b[0;0m 0.0 \u001b[0;0m 0.0 \u001b[1;36m-0.2 \u001b[0;32m 0.0 \u001b[0;32m-0.4 \u001b[0;32m-0.1 \u001b[0;32m 0.0 \u001b[0;32m 0.0 \u001b[0;32m 0.0 \u001b[0;32m-0.1 \u001b[0;32m-0.1 \u001b[1;36m 0.0 \u001b[0;32m 0.0 \u001b[0;32m 0.0 \u001b[0;32m 0.0 \u001b[0;32m 0.0 \u001b[0;32m 0.0 \u001b[0;32m 0.0 \u001b[0;32m 0.0 \u001b[0;32m-0.2 \u001b[1;36m 0.0 \u001b[0;0m 0.0 \u001b[0;0m 0.0 \u001b[0;0m 0.0 \u001b[0;0m 0.0 \u001b[0;0m 0.0 \n",
      "\u001b[0;0m 0.0 \u001b[0;0m 0.0 \u001b[0;0m 0.0 \u001b[0;0m 0.0 \u001b[0;0m 0.0 \u001b[0;0m 0.0 \u001b[1;36m 0.0 \u001b[0;32m 0.0 \u001b[0;32m-0.2 \u001b[0;32m 0.0 \u001b[0;0m 0.0 \u001b[0;32m 0.0 \u001b[0;32m 0.0 \u001b[1;36m 0.0 \u001b[1;36m 0.0 \u001b[1;36m 0.0 \u001b[1;36m-0.3 \u001b[1;36m 0.0 \u001b[0;32m 0.0 \u001b[0;32m-0.3 \u001b[0;32m 0.0 \u001b[0;32m-0.3 \u001b[0;32m-0.3 \u001b[0;32m 0.0 \u001b[1;36m 0.0 \u001b[0;0m 0.0 \u001b[0;0m 0.0 \u001b[0;0m 0.0 \u001b[0;0m 0.0 \u001b[0;0m 0.0 \n",
      "\u001b[0;0m 0.0 \u001b[0;0m 0.0 \u001b[0;0m 0.0 \u001b[0;0m 0.0 \u001b[0;0m 0.0 \u001b[0;0m 0.0 \u001b[1;36m 0.0 \u001b[0;32m 0.0 \u001b[0;32m 0.0 \u001b[0;0m 0.0 \u001b[0;0m-0.1 \u001b[0;0m 0.0 \u001b[0;32m-0.3 \u001b[1;36m 0.0 \u001b[1;36m-0.3 \u001b[1;36m 0.0 \u001b[1;36m 0.0 \u001b[1;36m 0.0 \u001b[0;32m 0.0 \u001b[0;32m 0.0 \u001b[0;32m-0.1 \u001b[0;32m 0.0 \u001b[0;32m-0.5 \u001b[0;32m 0.0 \u001b[1;36m 0.0 \u001b[0;0m 0.0 \u001b[0;0m 0.0 \u001b[0;0m 0.0 \u001b[0;0m 0.0 \u001b[0;0m 0.0 \n",
      "\u001b[0;0m 0.0 \u001b[0;0m 0.0 \u001b[0;0m 0.0 \u001b[0;0m 0.0 \u001b[0;0m 0.0 \u001b[0;0m 0.0 \u001b[1;36m-0.5 \u001b[0;32m 0.0 \u001b[0;32m 0.0 \u001b[0;32m-0.2 \u001b[0;0m-0.2 \u001b[0;32m-0.4 \u001b[1;36m 0.0 \u001b[0;0m 0.0 \u001b[1;36m 0.0 \u001b[1;31m 0.0 \u001b[1;36m-0.1 \u001b[1;36m-0.1 \u001b[1;36m-0.1 \u001b[0;32m 0.0 \u001b[0;32m 0.0 \u001b[0;32m 0.0 \u001b[0;32m 0.0 \u001b[0;32m-0.1 \u001b[1;36m 0.0 \u001b[0;0m 0.0 \u001b[0;0m 0.0 \u001b[0;0m 0.0 \u001b[0;0m 0.0 \u001b[0;0m 0.0 \n",
      "\u001b[0;0m 0.0 \u001b[0;0m 0.0 \u001b[0;0m 0.0 \u001b[0;0m 0.0 \u001b[0;0m 0.0 \u001b[0;0m 0.0 \u001b[1;36m 0.0 \u001b[0;32m 0.0 \u001b[0;32m 0.0 \u001b[0;32m 0.0 \u001b[0;32m-0.1 \u001b[0;32m 0.0 \u001b[0;0m 0.0 \u001b[0;0m 0.0 \u001b[0;0m 0.0 \u001b[1;36m 0.0 \u001b[1;36m 0.0 \u001b[1;36m-0.1 \u001b[0;32m 0.0 \u001b[0;32m 0.0 \u001b[0;32m 0.0 \u001b[0;32m 0.0 \u001b[0;0m-0.3 \u001b[0;32m-0.1 \u001b[1;36m 0.0 \u001b[0;0m 0.0 \u001b[0;0m 0.0 \u001b[0;0m 0.0 \u001b[0;0m 0.0 \u001b[0;0m 0.0 \n",
      "\u001b[0;0m 0.0 \u001b[0;0m 0.0 \u001b[0;0m 0.0 \u001b[0;0m 0.0 \u001b[0;0m 0.0 \u001b[0;0m 0.0 \u001b[1;36m 0.0 \u001b[0;32m 0.0 \u001b[0;32m 0.0 \u001b[0;32m 0.0 \u001b[0;32m 0.0 \u001b[0;32m 0.0 \u001b[0;32m 0.0 \u001b[0;0m-0.2 \u001b[1;36m 0.0 \u001b[1;36m 0.0 \u001b[1;36m-0.2 \u001b[1;36m-0.3 \u001b[0;32m-0.1 \u001b[0;32m-0.3 \u001b[0;32m 0.0 \u001b[0;0m 0.0 \u001b[0;0m 0.0 \u001b[0;0m-0.2 \u001b[1;36m 0.0 \u001b[0;0m 0.0 \u001b[0;0m 0.0 \u001b[0;0m 0.0 \u001b[0;0m 0.0 \u001b[0;0m 0.0 \n",
      "\u001b[0;0m 0.0 \u001b[0;0m 0.0 \u001b[0;0m 0.0 \u001b[0;0m 0.0 \u001b[0;0m 0.0 \u001b[0;0m 0.0 \u001b[1;36m 0.0 \u001b[0;32m 0.0 \u001b[0;32m-0.3 \u001b[0;32m-0.4 \u001b[0;32m-0.1 \u001b[0;32m 0.0 \u001b[0;32m-0.1 \u001b[0;32m 0.0 \u001b[0;32m 0.0 \u001b[1;36m-0.2 \u001b[0;32m 0.0 \u001b[0;32m 0.0 \u001b[0;32m 0.0 \u001b[0;32m-0.5 \u001b[0;32m 0.0 \u001b[0;32m 0.0 \u001b[0;0m 0.0 \u001b[0;32m 0.0 \u001b[1;36m 0.0 \u001b[0;0m 0.0 \u001b[0;0m 0.0 \u001b[0;0m 0.0 \u001b[0;0m 0.0 \u001b[0;0m 0.0 \n",
      "iteration :  1000\n",
      "\u001b[0;0m 0.0 \u001b[0;0m 0.0 \u001b[0;0m 0.0 \u001b[0;0m 0.0 \u001b[0;0m 0.0 \u001b[0;0m 0.0 \u001b[1;36m-2.6 \u001b[1;36m-2.6 \u001b[1;36m-2.1 \u001b[1;36m-2.7 \u001b[1;36m-2.6 \u001b[1;36m-2.6 \u001b[1;36m-2.8 \u001b[1;36m-2.4 \u001b[1;36m-2.7 \u001b[1;36m-2.0 \u001b[1;36m-2.1 \u001b[1;36m-2.8 \u001b[1;36m-2.8 \u001b[1;36m-2.8 \u001b[1;36m-2.9 \u001b[1;36m-3.3 \u001b[1;36m-3.4 \u001b[1;36m-3.1 \u001b[1;36m-3.6 \u001b[0;0m 0.0 \u001b[0;0m 0.0 \u001b[0;0m 0.0 \u001b[0;0m 0.0 \u001b[0;0m 0.0 \n",
      "\u001b[0;0m 0.0 \u001b[0;0m 0.0 \u001b[0;0m 0.0 \u001b[0;0m 0.0 \u001b[0;0m 0.0 \u001b[0;0m 0.0 \u001b[1;36m-2.6 \u001b[1;36m-2.5 \u001b[1;36m-2.3 \u001b[1;36m-2.8 \u001b[1;36m-2.0 \u001b[1;36m-2.0 \u001b[1;36m-2.2 \u001b[1;36m-1.7 \u001b[1;36m-1.4 \u001b[1;36m-1.9 \u001b[1;36m-1.3 \u001b[1;36m-2.2 \u001b[1;36m-1.3 \u001b[1;36m-1.5 \u001b[1;36m-2.1 \u001b[1;36m-2.2 \u001b[1;36m-2.2 \u001b[1;36m-2.8 \u001b[1;36m-2.9 \u001b[0;0m 0.0 \u001b[0;0m 0.0 \u001b[0;0m 0.0 \u001b[0;0m 0.0 \u001b[0;0m 0.0 \n",
      "\u001b[0;0m 0.0 \u001b[0;0m 0.0 \u001b[0;0m 0.0 \u001b[0;0m 0.0 \u001b[0;0m 0.0 \u001b[0;0m 0.0 \u001b[1;36m-2.4 \u001b[0;32m-2.4 \u001b[0;32m-2.0 \u001b[0;32m-2.6 \u001b[0;32m-2.5 \u001b[0;32m-2.5 \u001b[0;32m-2.5 \u001b[0;32m-2.0 \u001b[0;32m-2.1 \u001b[0;32m-1.9 \u001b[0;32m-1.7 \u001b[0;32m-2.2 \u001b[0;32m-2.2 \u001b[0;32m-2.2 \u001b[0;32m-2.8 \u001b[0;32m-2.9 \u001b[0;32m-3.0 \u001b[0;32m-3.0 \u001b[1;36m-3.3 \u001b[0;0m 0.0 \u001b[0;0m 0.0 \u001b[0;0m 0.0 \u001b[0;0m 0.0 \u001b[0;0m 0.0 \n",
      "\u001b[0;0m 0.0 \u001b[0;0m 0.0 \u001b[0;0m 0.0 \u001b[0;0m 0.0 \u001b[0;0m 0.0 \u001b[0;0m 0.0 \u001b[1;36m-2.0 \u001b[0;32m-2.4 \u001b[0;32m-1.7 \u001b[0;32m-2.3 \u001b[0;32m-2.3 \u001b[0;32m-2.7 \u001b[0;32m-2.6 \u001b[0;32m-2.0 \u001b[0;32m-2.0 \u001b[1;36m-1.0 \u001b[0;32m-1.5 \u001b[0;32m-2.0 \u001b[0;32m-2.1 \u001b[0;32m-2.2 \u001b[0;32m-2.8 \u001b[0;32m-2.8 \u001b[0;32m-2.9 \u001b[0;32m-3.0 \u001b[1;36m-3.1 \u001b[0;0m 0.0 \u001b[0;0m 0.0 \u001b[0;0m 0.0 \u001b[0;0m 0.0 \u001b[0;0m 0.0 \n",
      "\u001b[0;0m 0.0 \u001b[0;0m 0.0 \u001b[0;0m 0.0 \u001b[0;0m 0.0 \u001b[0;0m 0.0 \u001b[0;0m 0.0 \u001b[1;36m-2.5 \u001b[0;32m-2.3 \u001b[0;32m-1.9 \u001b[0;32m-2.2 \u001b[0;0m-2.7 \u001b[0;32m-2.4 \u001b[0;32m-2.3 \u001b[1;36m-2.0 \u001b[1;36m-1.8 \u001b[1;36m-1.0 \u001b[1;36m-1.5 \u001b[1;36m-1.9 \u001b[0;32m-1.8 \u001b[0;32m-2.1 \u001b[0;32m-2.3 \u001b[0;32m-2.8 \u001b[0;32m-2.9 \u001b[0;32m-2.9 \u001b[1;36m-3.3 \u001b[0;0m 0.0 \u001b[0;0m 0.0 \u001b[0;0m 0.0 \u001b[0;0m 0.0 \u001b[0;0m 0.0 \n",
      "\u001b[0;0m 0.0 \u001b[0;0m 0.0 \u001b[0;0m 0.0 \u001b[0;0m 0.0 \u001b[0;0m 0.0 \u001b[0;0m 0.0 \u001b[1;36m-1.8 \u001b[0;32m-1.8 \u001b[0;32m-1.2 \u001b[0;0m-2.0 \u001b[0;0m-2.5 \u001b[0;0m-2.8 \u001b[0;32m-2.6 \u001b[1;36m-1.9 \u001b[1;36m-2.6 \u001b[1;36m-1.0 \u001b[1;36m-2.1 \u001b[1;36m-2.0 \u001b[0;32m-1.9 \u001b[0;32m-2.7 \u001b[0;32m-2.6 \u001b[0;32m-2.7 \u001b[0;32m-2.9 \u001b[0;32m-2.5 \u001b[1;36m-3.0 \u001b[0;0m 0.0 \u001b[0;0m 0.0 \u001b[0;0m 0.0 \u001b[0;0m 0.0 \u001b[0;0m 0.0 \n",
      "\u001b[0;0m 0.0 \u001b[0;0m 0.0 \u001b[0;0m 0.0 \u001b[0;0m 0.0 \u001b[0;0m 0.0 \u001b[0;0m 0.0 \u001b[1;36m-2.1 \u001b[0;32m-2.1 \u001b[0;32m-1.8 \u001b[0;32m-1.8 \u001b[0;0m-2.1 \u001b[0;32m-2.3 \u001b[1;36m-2.4 \u001b[0;0m-2.0 \u001b[1;36m-1.0 \u001b[1;31m 0.0 \u001b[1;36m-1.0 \u001b[1;36m-1.0 \u001b[1;36m-1.0 \u001b[0;32m-1.9 \u001b[0;32m-1.9 \u001b[0;32m-2.6 \u001b[0;32m-2.6 \u001b[0;32m-2.9 \u001b[1;36m-3.3 \u001b[0;0m 0.0 \u001b[0;0m 0.0 \u001b[0;0m 0.0 \u001b[0;0m 0.0 \u001b[0;0m 0.0 \n",
      "\u001b[0;0m 0.0 \u001b[0;0m 0.0 \u001b[0;0m 0.0 \u001b[0;0m 0.0 \u001b[0;0m 0.0 \u001b[0;0m 0.0 \u001b[1;36m-2.4 \u001b[0;32m-2.5 \u001b[0;32m-1.9 \u001b[0;32m-2.0 \u001b[0;32m-2.4 \u001b[0;32m-2.3 \u001b[0;0m-2.7 \u001b[0;0m-2.5 \u001b[0;0m-1.8 \u001b[1;36m-1.0 \u001b[1;36m-1.9 \u001b[1;36m-1.9 \u001b[0;32m-1.9 \u001b[0;32m-2.6 \u001b[0;32m-2.6 \u001b[0;32m-2.8 \u001b[0;0m-3.2 \u001b[0;32m-2.9 \u001b[1;36m-3.1 \u001b[0;0m 0.0 \u001b[0;0m 0.0 \u001b[0;0m 0.0 \u001b[0;0m 0.0 \u001b[0;0m 0.0 \n",
      "\u001b[0;0m 0.0 \u001b[0;0m 0.0 \u001b[0;0m 0.0 \u001b[0;0m 0.0 \u001b[0;0m 0.0 \u001b[0;0m 0.0 \u001b[1;36m-2.4 \u001b[0;32m-2.5 \u001b[0;32m-2.4 \u001b[0;32m-2.1 \u001b[0;32m-2.7 \u001b[0;32m-2.4 \u001b[0;32m-2.8 \u001b[0;0m-2.8 \u001b[1;36m-2.5 \u001b[1;36m-1.0 \u001b[1;36m-2.0 \u001b[1;36m-1.9 \u001b[0;32m-1.8 \u001b[0;32m-2.6 \u001b[0;32m-2.5 \u001b[0;0m-3.2 \u001b[0;0m-3.4 \u001b[0;0m-2.9 \u001b[1;36m-3.4 \u001b[0;0m 0.0 \u001b[0;0m 0.0 \u001b[0;0m 0.0 \u001b[0;0m 0.0 \u001b[0;0m 0.0 \n",
      "\u001b[0;0m 0.0 \u001b[0;0m 0.0 \u001b[0;0m 0.0 \u001b[0;0m 0.0 \u001b[0;0m 0.0 \u001b[0;0m 0.0 \u001b[1;36m-2.4 \u001b[0;32m-3.0 \u001b[0;32m-2.5 \u001b[0;32m-2.5 \u001b[0;32m-2.9 \u001b[0;32m-2.9 \u001b[0;32m-2.9 \u001b[0;32m-1.9 \u001b[0;32m-2.0 \u001b[1;36m-1.0 \u001b[0;32m-2.0 \u001b[0;32m-1.9 \u001b[0;32m-2.6 \u001b[0;32m-2.7 \u001b[0;32m-2.8 \u001b[0;32m-3.2 \u001b[0;0m-3.6 \u001b[0;32m-3.3 \u001b[1;36m-3.4 \u001b[0;0m 0.0 \u001b[0;0m 0.0 \u001b[0;0m 0.0 \u001b[0;0m 0.0 \u001b[0;0m 0.0 \n",
      "iteration :  10000\n",
      "\u001b[0;0m 0.0 \u001b[0;0m 0.0 \u001b[0;0m 0.0 \u001b[0;0m 0.0 \u001b[0;0m 0.0 \u001b[0;0m 0.0 \u001b[1;36m-5.0 \u001b[1;36m-5.0 \u001b[1;36m-5.0 \u001b[1;36m-4.0 \u001b[1;36m-4.0 \u001b[1;36m-4.0 \u001b[1;36m-3.0 \u001b[1;36m-3.0 \u001b[1;36m-3.0 \u001b[1;36m-2.0 \u001b[1;36m-3.0 \u001b[1;36m-3.0 \u001b[1;36m-3.0 \u001b[1;36m-4.0 \u001b[1;36m-4.0 \u001b[1;36m-4.0 \u001b[1;36m-5.0 \u001b[1;36m-5.0 \u001b[1;36m-5.0 \u001b[0;0m 0.0 \u001b[0;0m 0.0 \u001b[0;0m 0.0 \u001b[0;0m 0.0 \u001b[0;0m 0.0 \n",
      "\u001b[0;0m 0.0 \u001b[0;0m 0.0 \u001b[0;0m 0.0 \u001b[0;0m 0.0 \u001b[0;0m 0.0 \u001b[0;0m 0.0 \u001b[1;36m-5.0 \u001b[1;36m-5.0 \u001b[1;36m-5.0 \u001b[1;36m-4.0 \u001b[1;36m-4.0 \u001b[1;36m-4.0 \u001b[1;36m-3.0 \u001b[1;36m-3.0 \u001b[1;36m-3.0 \u001b[1;36m-2.0 \u001b[1;36m-3.0 \u001b[1;36m-3.0 \u001b[1;36m-3.0 \u001b[1;36m-4.0 \u001b[1;36m-4.0 \u001b[1;36m-4.0 \u001b[1;36m-5.0 \u001b[1;36m-5.0 \u001b[1;36m-5.0 \u001b[0;0m 0.0 \u001b[0;0m 0.0 \u001b[0;0m 0.0 \u001b[0;0m 0.0 \u001b[0;0m 0.0 \n",
      "\u001b[0;0m 0.0 \u001b[0;0m 0.0 \u001b[0;0m 0.0 \u001b[0;0m 0.0 \u001b[0;0m 0.0 \u001b[0;0m 0.0 \u001b[1;36m-6.0 \u001b[0;32m-6.0 \u001b[0;32m-6.0 \u001b[0;32m-5.0 \u001b[0;32m-5.0 \u001b[0;32m-4.0 \u001b[0;32m-4.0 \u001b[0;32m-3.0 \u001b[0;32m-3.0 \u001b[0;32m-2.0 \u001b[0;32m-3.0 \u001b[0;32m-3.0 \u001b[0;32m-3.0 \u001b[0;32m-4.0 \u001b[0;32m-4.0 \u001b[0;32m-5.0 \u001b[0;32m-5.0 \u001b[0;32m-6.0 \u001b[1;36m-6.0 \u001b[0;0m 0.0 \u001b[0;0m 0.0 \u001b[0;0m 0.0 \u001b[0;0m 0.0 \u001b[0;0m 0.0 \n",
      "\u001b[0;0m 0.0 \u001b[0;0m 0.0 \u001b[0;0m 0.0 \u001b[0;0m 0.0 \u001b[0;0m 0.0 \u001b[0;0m 0.0 \u001b[1;36m-5.0 \u001b[0;32m-5.0 \u001b[0;32m-5.0 \u001b[0;32m-4.0 \u001b[0;32m-4.0 \u001b[0;32m-3.0 \u001b[0;32m-3.0 \u001b[0;32m-2.0 \u001b[0;32m-2.0 \u001b[1;36m-1.0 \u001b[0;32m-2.0 \u001b[0;32m-2.0 \u001b[0;32m-3.0 \u001b[0;32m-3.0 \u001b[0;32m-4.0 \u001b[0;32m-4.0 \u001b[0;32m-5.0 \u001b[0;32m-5.0 \u001b[1;36m-5.0 \u001b[0;0m 0.0 \u001b[0;0m 0.0 \u001b[0;0m 0.0 \u001b[0;0m 0.0 \u001b[0;0m 0.0 \n",
      "\u001b[0;0m 0.0 \u001b[0;0m 0.0 \u001b[0;0m 0.0 \u001b[0;0m 0.0 \u001b[0;0m 0.0 \u001b[0;0m 0.0 \u001b[1;36m-6.0 \u001b[0;32m-6.0 \u001b[0;32m-5.0 \u001b[0;32m-5.0 \u001b[0;0m-4.0 \u001b[0;32m-3.0 \u001b[0;32m-3.0 \u001b[1;36m-2.0 \u001b[1;36m-2.0 \u001b[1;36m-1.0 \u001b[1;36m-2.0 \u001b[1;36m-2.0 \u001b[0;32m-2.0 \u001b[0;32m-3.0 \u001b[0;32m-3.0 \u001b[0;32m-4.0 \u001b[0;32m-4.0 \u001b[0;32m-5.0 \u001b[1;36m-5.0 \u001b[0;0m 0.0 \u001b[0;0m 0.0 \u001b[0;0m 0.0 \u001b[0;0m 0.0 \u001b[0;0m 0.0 \n",
      "\u001b[0;0m 0.0 \u001b[0;0m 0.0 \u001b[0;0m 0.0 \u001b[0;0m 0.0 \u001b[0;0m 0.0 \u001b[0;0m 0.0 \u001b[1;36m-6.0 \u001b[0;32m-6.0 \u001b[0;32m-6.0 \u001b[0;0m-6.0 \u001b[0;0m-5.0 \u001b[0;0m-4.0 \u001b[0;32m-3.0 \u001b[1;36m-2.0 \u001b[1;36m-3.0 \u001b[1;36m-1.0 \u001b[1;36m-3.0 \u001b[1;36m-2.0 \u001b[0;32m-2.0 \u001b[0;32m-3.0 \u001b[0;32m-3.0 \u001b[0;32m-4.0 \u001b[0;32m-4.0 \u001b[0;32m-5.0 \u001b[1;36m-5.0 \u001b[0;0m 0.0 \u001b[0;0m 0.0 \u001b[0;0m 0.0 \u001b[0;0m 0.0 \u001b[0;0m 0.0 \n",
      "\u001b[0;0m 0.0 \u001b[0;0m 0.0 \u001b[0;0m 0.0 \u001b[0;0m 0.0 \u001b[0;0m 0.0 \u001b[0;0m 0.0 \u001b[1;36m-6.0 \u001b[0;32m-6.0 \u001b[0;32m-5.0 \u001b[0;32m-5.0 \u001b[0;0m-4.0 \u001b[0;32m-3.0 \u001b[1;36m-3.0 \u001b[0;0m-2.0 \u001b[1;36m-1.0 \u001b[1;31m 0.0 \u001b[1;36m-1.0 \u001b[1;36m-1.0 \u001b[1;36m-1.0 \u001b[0;32m-2.0 \u001b[0;32m-2.0 \u001b[0;32m-3.0 \u001b[0;32m-3.0 \u001b[0;32m-4.0 \u001b[1;36m-4.0 \u001b[0;0m 0.0 \u001b[0;0m 0.0 \u001b[0;0m 0.0 \u001b[0;0m 0.0 \u001b[0;0m 0.0 \n",
      "\u001b[0;0m 0.0 \u001b[0;0m 0.0 \u001b[0;0m 0.0 \u001b[0;0m 0.0 \u001b[0;0m 0.0 \u001b[0;0m 0.0 \u001b[1;36m-6.0 \u001b[0;32m-6.0 \u001b[0;32m-6.0 \u001b[0;32m-5.0 \u001b[0;32m-5.0 \u001b[0;32m-4.0 \u001b[0;0m-4.0 \u001b[0;0m-3.0 \u001b[0;0m-2.0 \u001b[1;36m-1.0 \u001b[1;36m-3.0 \u001b[1;36m-2.0 \u001b[0;32m-2.0 \u001b[0;32m-3.0 \u001b[0;32m-3.0 \u001b[0;32m-4.0 \u001b[0;0m-4.0 \u001b[0;32m-5.0 \u001b[1;36m-5.0 \u001b[0;0m 0.0 \u001b[0;0m 0.0 \u001b[0;0m 0.0 \u001b[0;0m 0.0 \u001b[0;0m 0.0 \n",
      "\u001b[0;0m 0.0 \u001b[0;0m 0.0 \u001b[0;0m 0.0 \u001b[0;0m 0.0 \u001b[0;0m 0.0 \u001b[0;0m 0.0 \u001b[1;36m-6.0 \u001b[0;32m-6.0 \u001b[0;32m-6.0 \u001b[0;32m-5.0 \u001b[0;32m-5.0 \u001b[0;32m-4.0 \u001b[0;32m-4.0 \u001b[0;0m-3.0 \u001b[1;36m-3.0 \u001b[1;36m-1.0 \u001b[1;36m-2.0 \u001b[1;36m-2.0 \u001b[0;32m-2.0 \u001b[0;32m-3.0 \u001b[0;32m-3.0 \u001b[0;0m-4.0 \u001b[0;0m-5.0 \u001b[0;0m-6.0 \u001b[1;36m-5.0 \u001b[0;0m 0.0 \u001b[0;0m 0.0 \u001b[0;0m 0.0 \u001b[0;0m 0.0 \u001b[0;0m 0.0 \n",
      "\u001b[0;0m 0.0 \u001b[0;0m 0.0 \u001b[0;0m 0.0 \u001b[0;0m 0.0 \u001b[0;0m 0.0 \u001b[0;0m 0.0 \u001b[1;36m-5.0 \u001b[0;32m-5.0 \u001b[0;32m-5.0 \u001b[0;32m-4.0 \u001b[0;32m-4.0 \u001b[0;32m-3.0 \u001b[0;32m-3.0 \u001b[0;32m-2.0 \u001b[0;32m-2.0 \u001b[1;36m-1.0 \u001b[0;32m-2.0 \u001b[0;32m-2.0 \u001b[0;32m-3.0 \u001b[0;32m-3.0 \u001b[0;32m-4.0 \u001b[0;32m-4.0 \u001b[0;0m-5.0 \u001b[0;32m-6.0 \u001b[1;36m-5.0 \u001b[0;0m 0.0 \u001b[0;0m 0.0 \u001b[0;0m 0.0 \u001b[0;0m 0.0 \u001b[0;0m 0.0 \n",
      "iteration :  50000\n",
      "\u001b[0;0m 0.0 \u001b[0;0m 0.0 \u001b[0;0m 0.0 \u001b[0;0m 0.0 \u001b[0;0m 0.0 \u001b[0;0m 0.0 \u001b[1;36m-5.0 \u001b[1;36m-5.0 \u001b[1;36m-5.0 \u001b[1;36m-4.0 \u001b[1;36m-4.0 \u001b[1;36m-4.0 \u001b[1;36m-3.0 \u001b[1;36m-3.0 \u001b[1;36m-3.0 \u001b[1;36m-2.0 \u001b[1;36m-3.0 \u001b[1;36m-3.0 \u001b[1;36m-3.0 \u001b[1;36m-4.0 \u001b[1;36m-4.0 \u001b[1;36m-4.0 \u001b[1;36m-5.0 \u001b[1;36m-5.0 \u001b[1;36m-5.0 \u001b[0;0m 0.0 \u001b[0;0m 0.0 \u001b[0;0m 0.0 \u001b[0;0m 0.0 \u001b[0;0m 0.0 \n",
      "\u001b[0;0m 0.0 \u001b[0;0m 0.0 \u001b[0;0m 0.0 \u001b[0;0m 0.0 \u001b[0;0m 0.0 \u001b[0;0m 0.0 \u001b[1;36m-5.0 \u001b[1;36m-5.0 \u001b[1;36m-5.0 \u001b[1;36m-4.0 \u001b[1;36m-4.0 \u001b[1;36m-4.0 \u001b[1;36m-3.0 \u001b[1;36m-3.0 \u001b[1;36m-3.0 \u001b[1;36m-2.0 \u001b[1;36m-3.0 \u001b[1;36m-3.0 \u001b[1;36m-3.0 \u001b[1;36m-4.0 \u001b[1;36m-4.0 \u001b[1;36m-4.0 \u001b[1;36m-5.0 \u001b[1;36m-5.0 \u001b[1;36m-5.0 \u001b[0;0m 0.0 \u001b[0;0m 0.0 \u001b[0;0m 0.0 \u001b[0;0m 0.0 \u001b[0;0m 0.0 \n",
      "\u001b[0;0m 0.0 \u001b[0;0m 0.0 \u001b[0;0m 0.0 \u001b[0;0m 0.0 \u001b[0;0m 0.0 \u001b[0;0m 0.0 \u001b[1;36m-6.0 \u001b[0;32m-6.0 \u001b[0;32m-6.0 \u001b[0;32m-5.0 \u001b[0;32m-5.0 \u001b[0;32m-4.0 \u001b[0;32m-4.0 \u001b[0;32m-3.0 \u001b[0;32m-3.0 \u001b[0;32m-2.0 \u001b[0;32m-3.0 \u001b[0;32m-3.0 \u001b[0;32m-3.0 \u001b[0;32m-4.0 \u001b[0;32m-4.0 \u001b[0;32m-5.0 \u001b[0;32m-5.0 \u001b[0;32m-6.0 \u001b[1;36m-6.0 \u001b[0;0m 0.0 \u001b[0;0m 0.0 \u001b[0;0m 0.0 \u001b[0;0m 0.0 \u001b[0;0m 0.0 \n",
      "\u001b[0;0m 0.0 \u001b[0;0m 0.0 \u001b[0;0m 0.0 \u001b[0;0m 0.0 \u001b[0;0m 0.0 \u001b[0;0m 0.0 \u001b[1;36m-5.0 \u001b[0;32m-5.0 \u001b[0;32m-5.0 \u001b[0;32m-4.0 \u001b[0;32m-4.0 \u001b[0;32m-3.0 \u001b[0;32m-3.0 \u001b[0;32m-2.0 \u001b[0;32m-2.0 \u001b[1;36m-1.0 \u001b[0;32m-2.0 \u001b[0;32m-2.0 \u001b[0;32m-3.0 \u001b[0;32m-3.0 \u001b[0;32m-4.0 \u001b[0;32m-4.0 \u001b[0;32m-5.0 \u001b[0;32m-5.0 \u001b[1;36m-5.0 \u001b[0;0m 0.0 \u001b[0;0m 0.0 \u001b[0;0m 0.0 \u001b[0;0m 0.0 \u001b[0;0m 0.0 \n",
      "\u001b[0;0m 0.0 \u001b[0;0m 0.0 \u001b[0;0m 0.0 \u001b[0;0m 0.0 \u001b[0;0m 0.0 \u001b[0;0m 0.0 \u001b[1;36m-6.0 \u001b[0;32m-6.0 \u001b[0;32m-5.0 \u001b[0;32m-5.0 \u001b[0;0m-4.0 \u001b[0;32m-3.0 \u001b[0;32m-3.0 \u001b[1;36m-2.0 \u001b[1;36m-2.0 \u001b[1;36m-1.0 \u001b[1;36m-2.0 \u001b[1;36m-2.0 \u001b[0;32m-2.0 \u001b[0;32m-3.0 \u001b[0;32m-3.0 \u001b[0;32m-4.0 \u001b[0;32m-4.0 \u001b[0;32m-5.0 \u001b[1;36m-5.0 \u001b[0;0m 0.0 \u001b[0;0m 0.0 \u001b[0;0m 0.0 \u001b[0;0m 0.0 \u001b[0;0m 0.0 \n",
      "\u001b[0;0m 0.0 \u001b[0;0m 0.0 \u001b[0;0m 0.0 \u001b[0;0m 0.0 \u001b[0;0m 0.0 \u001b[0;0m 0.0 \u001b[1;36m-6.0 \u001b[0;32m-6.0 \u001b[0;32m-6.0 \u001b[0;0m-6.0 \u001b[0;0m-5.0 \u001b[0;0m-4.0 \u001b[0;32m-3.0 \u001b[1;36m-2.0 \u001b[1;36m-3.0 \u001b[1;36m-1.0 \u001b[1;36m-3.0 \u001b[1;36m-2.0 \u001b[0;32m-2.0 \u001b[0;32m-3.0 \u001b[0;32m-3.0 \u001b[0;32m-4.0 \u001b[0;32m-4.0 \u001b[0;32m-5.0 \u001b[1;36m-5.0 \u001b[0;0m 0.0 \u001b[0;0m 0.0 \u001b[0;0m 0.0 \u001b[0;0m 0.0 \u001b[0;0m 0.0 \n",
      "\u001b[0;0m 0.0 \u001b[0;0m 0.0 \u001b[0;0m 0.0 \u001b[0;0m 0.0 \u001b[0;0m 0.0 \u001b[0;0m 0.0 \u001b[1;36m-6.0 \u001b[0;32m-6.0 \u001b[0;32m-5.0 \u001b[0;32m-5.0 \u001b[0;0m-4.0 \u001b[0;32m-3.0 \u001b[1;36m-3.0 \u001b[0;0m-2.0 \u001b[1;36m-1.0 \u001b[1;31m 0.0 \u001b[1;36m-1.0 \u001b[1;36m-1.0 \u001b[1;36m-1.0 \u001b[0;32m-2.0 \u001b[0;32m-2.0 \u001b[0;32m-3.0 \u001b[0;32m-3.0 \u001b[0;32m-4.0 \u001b[1;36m-4.0 \u001b[0;0m 0.0 \u001b[0;0m 0.0 \u001b[0;0m 0.0 \u001b[0;0m 0.0 \u001b[0;0m 0.0 \n",
      "\u001b[0;0m 0.0 \u001b[0;0m 0.0 \u001b[0;0m 0.0 \u001b[0;0m 0.0 \u001b[0;0m 0.0 \u001b[0;0m 0.0 \u001b[1;36m-6.0 \u001b[0;32m-6.0 \u001b[0;32m-6.0 \u001b[0;32m-5.0 \u001b[0;32m-5.0 \u001b[0;32m-4.0 \u001b[0;0m-4.0 \u001b[0;0m-3.0 \u001b[0;0m-2.0 \u001b[1;36m-1.0 \u001b[1;36m-3.0 \u001b[1;36m-2.0 \u001b[0;32m-2.0 \u001b[0;32m-3.0 \u001b[0;32m-3.0 \u001b[0;32m-4.0 \u001b[0;0m-4.0 \u001b[0;32m-5.0 \u001b[1;36m-5.0 \u001b[0;0m 0.0 \u001b[0;0m 0.0 \u001b[0;0m 0.0 \u001b[0;0m 0.0 \u001b[0;0m 0.0 \n",
      "\u001b[0;0m 0.0 \u001b[0;0m 0.0 \u001b[0;0m 0.0 \u001b[0;0m 0.0 \u001b[0;0m 0.0 \u001b[0;0m 0.0 \u001b[1;36m-6.0 \u001b[0;32m-6.0 \u001b[0;32m-6.0 \u001b[0;32m-5.0 \u001b[0;32m-5.0 \u001b[0;32m-4.0 \u001b[0;32m-4.0 \u001b[0;0m-3.0 \u001b[1;36m-3.0 \u001b[1;36m-1.0 \u001b[1;36m-2.0 \u001b[1;36m-2.0 \u001b[0;32m-2.0 \u001b[0;32m-3.0 \u001b[0;32m-3.0 \u001b[0;0m-4.0 \u001b[0;0m-5.0 \u001b[0;0m-6.0 \u001b[1;36m-5.0 \u001b[0;0m 0.0 \u001b[0;0m 0.0 \u001b[0;0m 0.0 \u001b[0;0m 0.0 \u001b[0;0m 0.0 \n",
      "\u001b[0;0m 0.0 \u001b[0;0m 0.0 \u001b[0;0m 0.0 \u001b[0;0m 0.0 \u001b[0;0m 0.0 \u001b[0;0m 0.0 \u001b[1;36m-5.0 \u001b[0;32m-5.0 \u001b[0;32m-5.0 \u001b[0;32m-4.0 \u001b[0;32m-4.0 \u001b[0;32m-3.0 \u001b[0;32m-3.0 \u001b[0;32m-2.0 \u001b[0;32m-2.0 \u001b[1;36m-1.0 \u001b[0;32m-2.0 \u001b[0;32m-2.0 \u001b[0;32m-3.0 \u001b[0;32m-3.0 \u001b[0;32m-4.0 \u001b[0;32m-4.0 \u001b[0;0m-5.0 \u001b[0;32m-6.0 \u001b[1;36m-5.0 \u001b[0;0m 0.0 \u001b[0;0m 0.0 \u001b[0;0m 0.0 \u001b[0;0m 0.0 \u001b[0;0m 0.0 \n"
     ]
    }
   ],
   "source": [
    "\n",
    "for it in iterations:\n",
    "    S, S_t, Q, Map  = generate_test_course(WIDTH, HEIGHT, n_actions, NUM_SAND_PITS) \n",
    "    model = dict()\n",
    "    for s in S:\n",
    "        for a in range(len(strengths)):\n",
    "            for d in range(len(directions)):\n",
    "                model[s,a,d] = None\n",
    "    # Loop for each episode\n",
    "    for i in range(it):\n",
    "        # Get random state and action by policy\n",
    "        state = generate_start(Map)\n",
    "        s, d = epsilon_greedy(Q, state)\n",
    "        # Take action A\n",
    "        state_next, reward = step(state, strengths[s], directions[d])\n",
    "        # Update Q\n",
    "        Q[state][s * len(directions) + d] = Q[state][s * len(directions) + d] + ALPHA * (reward + GAMMA * max(Q[state_next]) - Q[state][s * len(directions) + d])\n",
    "        # Store the transition in your model array\n",
    "        model[state, s, d] = state_next, reward\n",
    "\n",
    "        for k in range(n_planning_steps):\n",
    "            # random previously observed state\n",
    "            state_p = random.choice(S)\n",
    "            while np.min(Q[state_p]) == 0:\n",
    "                state_p = random.choice(S)\n",
    "\n",
    "            # we want to pick a random previously observed action\n",
    "            action_p_idx = random.choice([i for i in range(n_actions) if Q[state][i] != 0])\n",
    "            \n",
    "            s_p = int(action_p_idx / len(directions)) \n",
    "            d_p = action_p_idx % len(directions)\n",
    "\n",
    "            state_next_p, reward_p = step(state_p, strengths[s_p], directions[d_p])\n",
    "            model[state_p, s_p, d_p] = state_next_p, reward_p\n",
    "\n",
    "            Q[state_p][s_p * len(directions) + d_p] = Q[state_p][s_p * len(directions) + d_p] + ALPHA * (reward_p + GAMMA * max(Q[state_next_p]) - Q[state_p][s_p * len(directions) + d_p])\n",
    "    print(\"iteration : \", it)\n",
    "    print_V(Q)"
   ]
  },
  {
   "source": [
    "# Environment Testing"
   ],
   "cell_type": "markdown",
   "metadata": {}
  },
  {
   "source": [
    "First, a demonstration of the state-reward map."
   ],
   "cell_type": "markdown",
   "metadata": {}
  },
  {
   "cell_type": "code",
   "execution_count": null,
   "metadata": {},
   "outputs": [],
   "source": [
    "print_course(Map)"
   ]
  },
  {
   "source": [
    "We will do several demonstrations where we pick an random state *S_i* and then randomly select a strength *s* and direction *d* for our step method.\n",
    "\n",
    "**Expected behavior**: Given a current position, the ball will 'roll' in direction *d* by *s* amount. \n",
    "There are three special cases that we should observe as well. Like in golf, the ball shall stop when it goes out of bounds (out of the array bounds), into the sand pits (denoted by reward = -99), or into the goal hole (denoted by reward = 0). \n",
    "* Out of bounds: the state that is returned will be the most recent available state, with a reward of -99.\n",
    "* Sand pits: the state that is returned will be the most recent available state, with a reward of -99. \n",
    "* Goal hole: the state that is returned is the goal state, with a reward of 0. This is the terminal state and will end the episode. "
   ],
   "cell_type": "markdown",
   "metadata": {}
  },
  {
   "cell_type": "code",
   "execution_count": null,
   "metadata": {},
   "outputs": [],
   "source": []
  }
 ]
}