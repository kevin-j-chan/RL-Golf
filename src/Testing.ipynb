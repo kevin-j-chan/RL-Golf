{
 "metadata": {
  "language_info": {
   "codemirror_mode": {
    "name": "ipython",
    "version": 3
   },
   "file_extension": ".py",
   "mimetype": "text/x-python",
   "name": "python",
   "nbconvert_exporter": "python",
   "pygments_lexer": "ipython3",
   "version": "3.9.2-final"
  },
  "orig_nbformat": 2,
  "kernelspec": {
   "name": "python3",
   "display_name": "Python 3.9.2 64-bit",
   "metadata": {
    "interpreter": {
     "hash": "19ebbf56c786aea1e9c6a27c91595744759c69690a1d58643ea26eacb5eafac6"
    }
   }
  }
 },
 "nbformat": 4,
 "nbformat_minor": 2,
 "cells": [
  {
   "source": [
    "# Load modules and values"
   ],
   "cell_type": "markdown",
   "metadata": {}
  },
  {
   "cell_type": "code",
   "execution_count": 4,
   "metadata": {},
   "outputs": [],
   "source": [
    "%run Modules.ipynb\n",
    "%run Variables_Constants.ipynb"
   ]
  },
  {
   "source": [
    "# Test environment generation"
   ],
   "cell_type": "markdown",
   "metadata": {}
  },
  {
   "cell_type": "code",
   "execution_count": 16,
   "metadata": {},
   "outputs": [
    {
     "output_type": "stream",
     "name": "stdout",
     "text": [
      "True\nTrue\n\u001b[1;36mG \u001b[1;36mG \u001b[1;36mG \u001b[1;36mG \u001b[1;36mG \u001b[1;36mG \u001b[1;36mG \u001b[1;36mG \u001b[1;36mG \u001b[1;36mG \u001b[1;36mG \u001b[1;36mG \u001b[1;36mG \u001b[1;36mG \u001b[1;36mG \u001b[1;36mG \u001b[1;36mG \u001b[1;36mG \u001b[1;36mG \u001b[1;36mG \u001b[1;36mG \u001b[1;36mG \u001b[1;36mG \u001b[1;36mG \u001b[1;36mG \u001b[1;36mG \u001b[1;36mG \u001b[1;36mG \u001b[1;36mG \u001b[1;36mG \n\u001b[1;36mG \u001b[1;36mG \u001b[0;32mR \u001b[0;32mR \u001b[0;32mR \u001b[0;32mR \u001b[0;32mR \u001b[0;32mR \u001b[0;32mR \u001b[0;32mR \u001b[0;32mR \u001b[0;32mR \u001b[0;32mR \u001b[0;32mR \u001b[0;32mR \u001b[0;32mR \u001b[0;32mR \u001b[0;32mR \u001b[0;32mR \u001b[1;36mG \u001b[1;36mG \u001b[1;36mG \u001b[1;36mG \u001b[1;36mG \u001b[1;36mG \u001b[1;36mG \u001b[1;36mG \u001b[1;36mG \u001b[1;36mG \u001b[1;36mG \n\u001b[1;36mG \u001b[1;36mG \u001b[0;32mR \u001b[0;32mR \u001b[0;32mR \u001b[0;32mR \u001b[0;32mR \u001b[1;36mG \u001b[1;36mG \u001b[1;36mG \u001b[1;36mG \u001b[1;36mG \u001b[1;36mG \u001b[1;36mG \u001b[0;32mR \u001b[0;32mR \u001b[0;32mR \u001b[0;32mR \u001b[0;32mR \u001b[1;36mG \u001b[1;36mG \u001b[1;36mG \u001b[1;36mG \u001b[1;36mG \u001b[1;36mG \u001b[1;36mG \u001b[1;36mG \u001b[1;36mG \u001b[1;36mG \u001b[1;36mG \n\u001b[1;36mG \u001b[1;36mG \u001b[0;32mR \u001b[0;32mR \u001b[0;32mR \u001b[0;32mR \u001b[0;32mR \u001b[1;36mG \u001b[1;36mG \u001b[1;36mG \u001b[1;36mG \u001b[1;36mG \u001b[1;36mG \u001b[1;36mG \u001b[0;32mR \u001b[0;32mR \u001b[0;32mR \u001b[0;32mR \u001b[0;32mR \u001b[1;36mG \u001b[1;36mG \u001b[1;36mG \u001b[1;36mG \u001b[1;36mG \u001b[1;36mG \u001b[1;36mG \u001b[1;36mG \u001b[1;36mG \u001b[1;36mG \u001b[1;36mG \n\u001b[1;36mG \u001b[1;36mG \u001b[0;32mR \u001b[0;0mP \u001b[0;32mR \u001b[0;32mR \u001b[0;32mR \u001b[1;36mG \u001b[1;36mG \u001b[1;36mG \u001b[1;36mG \u001b[1;36mG \u001b[1;36mG \u001b[1;36mG \u001b[0;32mR \u001b[0;32mR \u001b[0;32mR \u001b[0;32mR \u001b[0;32mR \u001b[1;36mG \u001b[1;36mG \u001b[1;36mG \u001b[1;36mG \u001b[1;36mG \u001b[1;36mG \u001b[1;36mG \u001b[1;36mG \u001b[1;36mG \u001b[1;36mG \u001b[1;36mG \n\u001b[1;36mG \u001b[1;36mG \u001b[0;0mP \u001b[0;0mP \u001b[0;0mP \u001b[0;32mR \u001b[0;32mR \u001b[1;36mG \u001b[1;36mG \u001b[1;36mG \u001b[1;31mH \u001b[1;36mG \u001b[1;36mG \u001b[1;36mG \u001b[0;32mR \u001b[0;32mR \u001b[0;32mR \u001b[0;32mR \u001b[0;0mP \u001b[1;36mG \u001b[1;36mG \u001b[1;36mG \u001b[1;36mG \u001b[1;36mG \u001b[1;36mG \u001b[1;36mG \u001b[1;36mG \u001b[1;36mG \u001b[1;36mG \u001b[1;36mG \n\u001b[1;36mG \u001b[1;36mG \u001b[0;32mR \u001b[0;0mP \u001b[0;32mR \u001b[0;32mR \u001b[0;32mR \u001b[1;36mG \u001b[1;36mG \u001b[1;36mG \u001b[1;36mG \u001b[1;36mG \u001b[1;36mG \u001b[1;36mG \u001b[0;32mR \u001b[0;32mR \u001b[0;32mR \u001b[0;0mP \u001b[0;0mP \u001b[0;0mP \u001b[1;36mG \u001b[1;36mG \u001b[1;36mG \u001b[1;36mG \u001b[1;36mG \u001b[1;36mG \u001b[1;36mG \u001b[1;36mG \u001b[1;36mG \u001b[1;36mG \n\u001b[1;36mG \u001b[1;36mG \u001b[0;32mR \u001b[0;32mR \u001b[0;32mR \u001b[0;32mR \u001b[0;32mR \u001b[1;36mG \u001b[1;36mG \u001b[1;36mG \u001b[1;36mG \u001b[1;36mG \u001b[1;36mG \u001b[1;36mG \u001b[0;32mR \u001b[0;32mR \u001b[0;32mR \u001b[0;32mR \u001b[0;0mP \u001b[1;36mG \u001b[1;36mG \u001b[1;36mG \u001b[1;36mG \u001b[1;36mG \u001b[0;0mP \u001b[1;36mG \u001b[1;36mG \u001b[1;36mG \u001b[1;36mG \u001b[1;36mG \n\u001b[1;36mG \u001b[1;36mG \u001b[0;32mR \u001b[0;32mR \u001b[0;32mR \u001b[0;32mR \u001b[0;32mR \u001b[1;36mG \u001b[1;36mG \u001b[1;36mG \u001b[1;36mG \u001b[1;36mG \u001b[1;36mG \u001b[1;36mG \u001b[0;32mR \u001b[0;32mR \u001b[0;32mR \u001b[0;32mR \u001b[0;32mR \u001b[1;36mG \u001b[1;36mG \u001b[1;36mG \u001b[1;36mG \u001b[0;0mP \u001b[0;0mP \u001b[0;0mP \u001b[1;36mG \u001b[1;36mG \u001b[1;36mG \u001b[1;36mG \n\u001b[1;36mG \u001b[1;36mG \u001b[0;32mR \u001b[0;32mR \u001b[0;32mR \u001b[0;32mR \u001b[0;32mR \u001b[0;32mR \u001b[0;32mR \u001b[0;32mR \u001b[0;32mR \u001b[0;32mR \u001b[0;32mR \u001b[0;32mR \u001b[0;32mR \u001b[0;32mR \u001b[0;32mR \u001b[0;32mR \u001b[0;32mR \u001b[1;36mG \u001b[1;36mG \u001b[1;36mG \u001b[1;36mG \u001b[1;36mG \u001b[0;0mP \u001b[1;36mG \u001b[1;36mG \u001b[1;36mG \u001b[1;36mG \u001b[1;36mG \n"
     ]
    }
   ],
   "source": [
    "S, S_t, Q, Map = generate_course(WIDTH, HEIGHT, n_actions, N_SAND_PITS)\n",
    "\n",
    "# State size should be WIDTH * HEIGHT\n",
    "print(len(S) == WIDTH * HEIGHT)\n",
    "# S_t should be non-empty\n",
    "print(len(S_t) != 0)\n",
    "print_course(Map)"
   ]
  },
  {
   "source": [
    "# Test standardized environment generation\n",
    "Standardized environment will be used for testing"
   ],
   "cell_type": "markdown",
   "metadata": {}
  },
  {
   "cell_type": "code",
   "execution_count": 17,
   "metadata": {},
   "outputs": [
    {
     "output_type": "stream",
     "name": "stdout",
     "text": [
      "True\nTrue\n\u001b[0;0mO \u001b[0;0mO \u001b[0;0mO \u001b[0;0mO \u001b[0;0mO \u001b[0;0mO \u001b[1;36mG \u001b[1;36mG \u001b[1;36mG \u001b[1;36mG \u001b[1;36mG \u001b[1;36mG \u001b[1;36mG \u001b[1;36mG \u001b[1;36mG \u001b[1;36mG \u001b[1;36mG \u001b[1;36mG \u001b[1;36mG \u001b[1;36mG \u001b[1;36mG \u001b[1;36mG \u001b[1;36mG \u001b[1;36mG \u001b[1;36mG \u001b[0;0mO \u001b[0;0mO \u001b[0;0mO \u001b[0;0mO \u001b[0;0mO \n\u001b[0;0mO \u001b[0;0mO \u001b[0;0mO \u001b[0;0mO \u001b[0;0mO \u001b[0;0mO \u001b[1;36mG \u001b[1;36mG \u001b[1;36mG \u001b[1;36mG \u001b[1;36mG \u001b[1;36mG \u001b[1;36mG \u001b[1;36mG \u001b[1;36mG \u001b[1;36mG \u001b[1;36mG \u001b[1;36mG \u001b[1;36mG \u001b[1;36mG \u001b[1;36mG \u001b[1;36mG \u001b[1;36mG \u001b[1;36mG \u001b[1;36mG \u001b[0;0mO \u001b[0;0mO \u001b[0;0mO \u001b[0;0mO \u001b[0;0mO \n\u001b[0;0mO \u001b[0;0mO \u001b[0;0mO \u001b[0;0mO \u001b[0;0mO \u001b[0;0mO \u001b[1;36mG \u001b[0;32mR \u001b[0;32mR \u001b[0;32mR \u001b[0;32mR \u001b[0;32mR \u001b[0;32mR \u001b[0;32mR \u001b[0;32mR \u001b[0;32mR \u001b[0;32mR \u001b[0;32mR \u001b[0;32mR \u001b[0;32mR \u001b[0;32mR \u001b[0;32mR \u001b[0;32mR \u001b[0;32mR \u001b[1;36mG \u001b[0;0mO \u001b[0;0mO \u001b[0;0mO \u001b[0;0mO \u001b[0;0mO \n\u001b[0;0mO \u001b[0;0mO \u001b[0;0mO \u001b[0;0mO \u001b[0;0mO \u001b[0;0mO \u001b[1;36mG \u001b[0;32mR \u001b[0;32mR \u001b[0;32mR \u001b[0;32mR \u001b[0;32mR \u001b[0;32mR \u001b[0;32mR \u001b[0;32mR \u001b[1;36mG \u001b[0;32mR \u001b[0;32mR \u001b[0;32mR \u001b[0;32mR \u001b[0;32mR \u001b[0;32mR \u001b[0;32mR \u001b[0;32mR \u001b[1;36mG \u001b[0;0mO \u001b[0;0mO \u001b[0;0mO \u001b[0;0mO \u001b[0;0mO \n\u001b[0;0mO \u001b[0;0mO \u001b[0;0mO \u001b[0;0mO \u001b[0;0mO \u001b[0;0mO \u001b[1;36mG \u001b[0;32mR \u001b[0;32mR \u001b[0;32mR \u001b[0;0mP \u001b[0;32mR \u001b[0;32mR \u001b[1;36mG \u001b[1;36mG \u001b[1;36mG \u001b[1;36mG \u001b[1;36mG \u001b[0;32mR \u001b[0;32mR \u001b[0;32mR \u001b[0;32mR \u001b[0;32mR \u001b[0;32mR \u001b[1;36mG \u001b[0;0mO \u001b[0;0mO \u001b[0;0mO \u001b[0;0mO \u001b[0;0mO \n\u001b[0;0mO \u001b[0;0mO \u001b[0;0mO \u001b[0;0mO \u001b[0;0mO \u001b[0;0mO \u001b[1;36mG \u001b[0;32mR \u001b[0;32mR \u001b[0;0mP \u001b[0;0mP \u001b[0;0mP \u001b[0;32mR \u001b[1;36mG \u001b[1;36mG \u001b[1;36mG \u001b[1;36mG \u001b[1;36mG \u001b[0;32mR \u001b[0;32mR \u001b[0;32mR \u001b[0;32mR \u001b[0;32mR \u001b[0;32mR \u001b[1;36mG \u001b[0;0mO \u001b[0;0mO \u001b[0;0mO \u001b[0;0mO \u001b[0;0mO \n\u001b[0;0mO \u001b[0;0mO \u001b[0;0mO \u001b[0;0mO \u001b[0;0mO \u001b[0;0mO \u001b[1;36mG \u001b[0;32mR \u001b[0;32mR \u001b[0;32mR \u001b[0;0mP \u001b[0;32mR \u001b[1;36mG \u001b[0;0mP \u001b[1;36mG \u001b[1;31mH \u001b[1;36mG \u001b[1;36mG \u001b[1;36mG \u001b[0;32mR \u001b[0;32mR \u001b[0;32mR \u001b[0;32mR \u001b[0;32mR \u001b[1;36mG \u001b[0;0mO \u001b[0;0mO \u001b[0;0mO \u001b[0;0mO \u001b[0;0mO \n\u001b[0;0mO \u001b[0;0mO \u001b[0;0mO \u001b[0;0mO \u001b[0;0mO \u001b[0;0mO \u001b[1;36mG \u001b[0;32mR \u001b[0;32mR \u001b[0;32mR \u001b[0;32mR \u001b[0;32mR \u001b[0;0mP \u001b[0;0mP \u001b[0;0mP \u001b[1;36mG \u001b[1;36mG \u001b[1;36mG \u001b[0;32mR \u001b[0;32mR \u001b[0;32mR \u001b[0;32mR \u001b[0;0mP \u001b[0;32mR \u001b[1;36mG \u001b[0;0mO \u001b[0;0mO \u001b[0;0mO \u001b[0;0mO \u001b[0;0mO \n\u001b[0;0mO \u001b[0;0mO \u001b[0;0mO \u001b[0;0mO \u001b[0;0mO \u001b[0;0mO \u001b[1;36mG \u001b[0;32mR \u001b[0;32mR \u001b[0;32mR \u001b[0;32mR \u001b[0;32mR \u001b[0;32mR \u001b[0;0mP \u001b[1;36mG \u001b[1;36mG \u001b[1;36mG \u001b[1;36mG \u001b[0;32mR \u001b[0;32mR \u001b[0;32mR \u001b[0;0mP \u001b[0;0mP \u001b[0;0mP \u001b[1;36mG \u001b[0;0mO \u001b[0;0mO \u001b[0;0mO \u001b[0;0mO \u001b[0;0mO \n\u001b[0;0mO \u001b[0;0mO \u001b[0;0mO \u001b[0;0mO \u001b[0;0mO \u001b[0;0mO \u001b[1;36mG \u001b[0;32mR \u001b[0;32mR \u001b[0;32mR \u001b[0;32mR \u001b[0;32mR \u001b[0;32mR \u001b[0;32mR \u001b[0;32mR \u001b[1;36mG \u001b[0;32mR \u001b[0;32mR \u001b[0;32mR \u001b[0;32mR \u001b[0;32mR \u001b[0;32mR \u001b[0;0mP \u001b[0;32mR \u001b[1;36mG \u001b[0;0mO \u001b[0;0mO \u001b[0;0mO \u001b[0;0mO \u001b[0;0mO \n"
     ]
    }
   ],
   "source": [
    "S, S_t, Q, Map = generate_test_course(WIDTH, HEIGHT, n_actions, N_SAND_PITS)\n",
    "\n",
    "# State size should be WIDTH * HEIGHT\n",
    "print(len(S) == WIDTH * HEIGHT)\n",
    "# S_t should be non-empty\n",
    "print(len(S_t) != 0)\n",
    "print_course(Map)"
   ]
  },
  {
   "source": [
    "# Test randomized state choice\n",
    "Randomly pick five states, which should be in bounds and not the hole. (Map\\[state\\] != O or H)"
   ],
   "cell_type": "markdown",
   "metadata": {}
  },
  {
   "cell_type": "code",
   "execution_count": 18,
   "metadata": {},
   "outputs": [
    {
     "output_type": "stream",
     "name": "stdout",
     "text": [
      "[(18, 9), (9, 9), (21, 9), (11, 0), (24, 9)]\n"
     ]
    }
   ],
   "source": [
    "S, S_t, Q, Map = generate_test_course(WIDTH, HEIGHT, n_actions, N_SAND_PITS)\n",
    "states = []\n",
    "for i in range(5):\n",
    "    S_i = generate_start(Map)\n",
    "    states.append(S_i)\n",
    "print(states)"
   ]
  },
  {
   "source": [
    "# Test actions\n",
    "Things to note \n",
    "- starting on the rough ('R') makes the ball move 1 less distance\n",
    "- starting in a sand pit ('P') makes the ball move 2 less distance"
   ],
   "cell_type": "markdown",
   "metadata": {}
  },
  {
   "cell_type": "code",
   "execution_count": 24,
   "metadata": {},
   "outputs": [
    {
     "output_type": "stream",
     "name": "stdout",
     "text": [
      "\u001b[0;0mO \u001b[0;0mO \u001b[0;0mO \u001b[0;0mO \u001b[0;0mO \u001b[0;0mO \u001b[1;36mG \u001b[1;36mG \u001b[1;36mG \u001b[1;36mG \u001b[1;36mG \u001b[1;36mG \u001b[1;36mG \u001b[1;36mG \u001b[1;36mG \u001b[1;36mG \u001b[1;36mG \u001b[1;36mG \u001b[1;36mG \u001b[1;36mG \u001b[1;36mG \u001b[1;36mG \u001b[1;36mG \u001b[1;36mG \u001b[1;36mG \u001b[0;0mO \u001b[0;0mO \u001b[0;0mO \u001b[0;0mO \u001b[0;0mO \n\u001b[0;0mO \u001b[0;0mO \u001b[0;0mO \u001b[0;0mO \u001b[0;0mO \u001b[0;0mO \u001b[1;36mG \u001b[1;36mG \u001b[1;36mG \u001b[1;36mG \u001b[1;36mG \u001b[1;36mG \u001b[1;36mG \u001b[1;36mG \u001b[1;36mG \u001b[1;36mG \u001b[1;36mG \u001b[1;36mG \u001b[1;36mG \u001b[1;36mG \u001b[1;36mG \u001b[1;36mG \u001b[1;36mG \u001b[1;36mG \u001b[1;36mG \u001b[0;0mO \u001b[0;0mO \u001b[0;0mO \u001b[0;0mO \u001b[0;0mO \n\u001b[0;0mO \u001b[0;0mO \u001b[0;0mO \u001b[0;0mO \u001b[0;0mO \u001b[0;0mO \u001b[1;36mG \u001b[0;32mR \u001b[0;32mR \u001b[0;32mR \u001b[0;32mR \u001b[0;32mR \u001b[0;32mR \u001b[0;32mR \u001b[0;32mR \u001b[0;32mR \u001b[0;32mR \u001b[0;32mR \u001b[0;32mR \u001b[0;32mR \u001b[0;32mR \u001b[0;32mR \u001b[0;32mR \u001b[0;32mR \u001b[1;36mG \u001b[0;0mO \u001b[0;0mO \u001b[0;0mO \u001b[0;0mO \u001b[0;0mO \n\u001b[0;0mO \u001b[0;0mO \u001b[0;0mO \u001b[0;0mO \u001b[0;0mO \u001b[0;0mO \u001b[1;36mG \u001b[0;32mR \u001b[0;32mR \u001b[0;32mR \u001b[0;32mR \u001b[0;32mR \u001b[0;32mR \u001b[0;32mR \u001b[0;32mR \u001b[1;36mG \u001b[0;32mR \u001b[0;32mR \u001b[0;32mR \u001b[0;32mR \u001b[0;32mR \u001b[0;32mR \u001b[0;32mR \u001b[0;32mR \u001b[1;36mG \u001b[0;0mO \u001b[0;0mO \u001b[0;0mO \u001b[0;0mO \u001b[0;0mO \n\u001b[0;0mO \u001b[0;0mO \u001b[0;0mO \u001b[0;0mO \u001b[0;0mO \u001b[0;0mO \u001b[1;36mG \u001b[0;32mR \u001b[0;32mR \u001b[0;32mR \u001b[0;0mP \u001b[0;32mR \u001b[0;32mR \u001b[1;36mG \u001b[1;36mG \u001b[1;36mG \u001b[1;36mG \u001b[1;36mG \u001b[0;32mR \u001b[0;32mR \u001b[0;32mR \u001b[0;32mR \u001b[0;32mR \u001b[0;32mR \u001b[1;36mG \u001b[0;0mO \u001b[0;0mO \u001b[0;0mO \u001b[0;0mO \u001b[0;0mO \n\u001b[0;0mO \u001b[0;0mO \u001b[0;0mO \u001b[0;0mO \u001b[0;0mO \u001b[0;0mO \u001b[1;36mG \u001b[0;32mR \u001b[0;32mR \u001b[0;0mP \u001b[0;0mP \u001b[0;0mP \u001b[0;32mR \u001b[1;36mG \u001b[1;36mG \u001b[1;36mG \u001b[1;36mG \u001b[1;36mG \u001b[0;32mR \u001b[0;32mR \u001b[0;32mR \u001b[0;32mR \u001b[0;32mR \u001b[0;32mR \u001b[1;36mG \u001b[0;0mO \u001b[0;0mO \u001b[0;0mO \u001b[0;0mO \u001b[0;0mO \n\u001b[0;0mO \u001b[0;0mO \u001b[0;0mO \u001b[0;0mO \u001b[0;0mO \u001b[0;0mO \u001b[1;36mG \u001b[0;32mR \u001b[0;32mR \u001b[0;32mR \u001b[0;0mP \u001b[0;32mR \u001b[1;36mG \u001b[0;0mP \u001b[1;36mG \u001b[1;31mH \u001b[1;36mG \u001b[1;36mG \u001b[1;36mG \u001b[0;32mR \u001b[0;32mR \u001b[0;32mR \u001b[0;32mR \u001b[0;32mR \u001b[1;36mG \u001b[0;0mO \u001b[0;0mO \u001b[0;0mO \u001b[0;0mO \u001b[0;0mO \n\u001b[0;0mO \u001b[0;0mO \u001b[0;0mO \u001b[0;0mO \u001b[0;0mO \u001b[0;0mO \u001b[1;36mG \u001b[0;32mR \u001b[0;32mR \u001b[0;32mR \u001b[0;32mR \u001b[0;32mR \u001b[0;0mP \u001b[0;0mP \u001b[0;0mP \u001b[1;36mG \u001b[1;36mG \u001b[1;36mG \u001b[0;32mR \u001b[0;32mR \u001b[0;32mR \u001b[0;32mR \u001b[0;0mP \u001b[0;32mR \u001b[1;36mG \u001b[0;0mO \u001b[0;0mO \u001b[0;0mO \u001b[0;0mO \u001b[0;0mO \n\u001b[0;0mO \u001b[0;0mO \u001b[0;0mO \u001b[0;0mO \u001b[0;0mO \u001b[0;0mO \u001b[1;36mG \u001b[0;32mR \u001b[0;32mR \u001b[0;32mR \u001b[0;32mR \u001b[0;32mR \u001b[0;32mR \u001b[0;0mP \u001b[1;36mG \u001b[1;36mG \u001b[1;36mG \u001b[1;36mG \u001b[0;32mR \u001b[0;32mR \u001b[0;32mR \u001b[0;0mP \u001b[0;0mP \u001b[0;0mP \u001b[1;36mG \u001b[0;0mO \u001b[0;0mO \u001b[0;0mO \u001b[0;0mO \u001b[0;0mO \n\u001b[0;0mO \u001b[0;0mO \u001b[0;0mO \u001b[0;0mO \u001b[0;0mO \u001b[0;0mO \u001b[1;36mG \u001b[0;32mR \u001b[0;32mR \u001b[0;32mR \u001b[0;32mR \u001b[0;32mR \u001b[0;32mR \u001b[0;32mR \u001b[0;32mR \u001b[1;36mG \u001b[0;32mR \u001b[0;32mR \u001b[0;32mR \u001b[0;32mR \u001b[0;32mR \u001b[0;32mR \u001b[0;0mP \u001b[0;32mR \u001b[1;36mG \u001b[0;0mO \u001b[0;0mO \u001b[0;0mO \u001b[0;0mO \u001b[0;0mO \ninitial state:  (16, 3)\n\tstrength:  2 \t\tdirection=  (1, 0)\n\tnew state:  (17, 3) \treward=  -1\n\tstrength:  2 \t\tdirection=  (0, 1)\n\tnew state:  (17, 4) \treward=  -1\n\tstrength:  2 \t\tdirection=  (-1, 0)\n\tnew state:  (15, 4) \treward=  -1\n\tstrength:  2 \t\tdirection=  (0, 1)\n\tnew state:  (15, 6) \treward=  -1\n\tstrength:  2 \t\tdirection=  (-1, 0)\n\tnew state:  (15, 6) \treward=  0\nending state:  (15, 6)\n"
     ]
    }
   ],
   "source": [
    "S, S_t, Q, Map = generate_test_course(WIDTH, HEIGHT, n_actions, N_SAND_PITS)\n",
    "print_course(Map)\n",
    "state = generate_start(Map)\n",
    "print(\"initial state: \",state)\n",
    "for i in range(5):\n",
    "    s = random.choice(strengths)\n",
    "    d = random.choice(directions)\n",
    "    state_new, reward = step(state, s, d)\n",
    "    print(\"\\tstrength: \",s,\"\\t\\tdirection= \",d)\n",
    "    print(\"\\tnew state: \",state_new,\"\\treward= \",reward)\n",
    "    state = state_new\n",
    "print(\"ending state: \",state)"
   ]
  }
 ]
}